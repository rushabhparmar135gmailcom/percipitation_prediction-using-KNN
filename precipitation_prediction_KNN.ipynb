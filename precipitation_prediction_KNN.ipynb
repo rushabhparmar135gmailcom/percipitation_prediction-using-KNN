{
 "cells": [
  {
   "cell_type": "code",
   "execution_count": 1,
   "id": "de98f34e",
   "metadata": {
    "vscode": {
     "languageId": "r"
    }
   },
   "outputs": [],
   "source": [
    "# This dataset has data of the world climatic conditons on daily basis for 2020. We intend to predict the percipitation intensity\n",
    "# based on other climatic conditions."
   ]
  },
  {
   "cell_type": "code",
   "execution_count": 2,
   "id": "faee2678",
   "metadata": {
    "vscode": {
     "languageId": "r"
    }
   },
   "outputs": [],
   "source": [
    "df = read.csv(\"C:\\\\Users\\\\hp\\\\Downloads\\\\all_countries_weather\\\\daily_weather_2020.csv\")"
   ]
  },
  {
   "cell_type": "code",
   "execution_count": 78,
   "id": "16fce663",
   "metadata": {
    "vscode": {
     "languageId": "r"
    }
   },
   "outputs": [],
   "source": [
    "library(ggplot2)\n",
    "library(MASS)\n",
    "library(pastecs)\n",
    "library(heatmaply)\n",
    "library(naniar)\n",
    "library(Hmisc)\n",
    "library(ggplot2)\n",
    "library(tidyr)\n",
    "library(GGally)\n",
    "library(corrplot)\n",
    "    # For Linear regression \n",
    "library(caTools)\n",
    "library(dplyr)\n",
    "library(readxl)\n",
    "library(caret)"
   ]
  },
  {
   "cell_type": "code",
   "execution_count": 81,
   "id": "a5fccacc",
   "metadata": {
    "vscode": {
     "languageId": "r"
    }
   },
   "outputs": [],
   "source": [
    "# Data Extraction"
   ]
  },
  {
   "cell_type": "code",
   "execution_count": 82,
   "id": "216e0711",
   "metadata": {
    "vscode": {
     "languageId": "r"
    }
   },
   "outputs": [],
   "source": [
    "# Here we drop off the columns which doesnt fit our motive and have least effect on calculating precipitation\n",
    "# Thus we remove X, Country.Region, Province.State, time, summary, icon, precipType as they are characters with numerous values\n",
    "# as well they have least affect on percipitation"
   ]
  },
  {
   "cell_type": "code",
   "execution_count": 3,
   "id": "95132d88",
   "metadata": {
    "vscode": {
     "languageId": "r"
    }
   },
   "outputs": [],
   "source": [
    "new_df = subset(df, select = -c(X, Country.Region, Province.State, time, summary, icon, precipType))"
   ]
  },
  {
   "cell_type": "code",
   "execution_count": 85,
   "id": "662daf11",
   "metadata": {
    "vscode": {
     "languageId": "r"
    }
   },
   "outputs": [],
   "source": [
    "# Now that we have all numeric values, we further untend to perform Data Cleansing where we deal with missing values and outlier"
   ]
  },
  {
   "cell_type": "code",
   "execution_count": 4,
   "id": "95f1bda9",
   "metadata": {
    "vscode": {
     "languageId": "r"
    }
   },
   "outputs": [],
   "source": [
    "new_df$sunriseTime[is.na(new_df$sunriseTime)]<-mean(new_df$sunriseTime,na.rm=TRUE)"
   ]
  },
  {
   "cell_type": "code",
   "execution_count": 5,
   "id": "d73664ba",
   "metadata": {
    "vscode": {
     "languageId": "r"
    }
   },
   "outputs": [],
   "source": [
    "new_df$sunsetTime[is.na(new_df$sunsetTime)]<-mean(new_df$sunsetTime,na.rm=TRUE)"
   ]
  },
  {
   "cell_type": "code",
   "execution_count": 6,
   "id": "d9ecabad",
   "metadata": {
    "vscode": {
     "languageId": "r"
    }
   },
   "outputs": [],
   "source": [
    "new_df$precipIntensityMaxTime[is.na(new_df$precipIntensityMaxTime)]<-mean(new_df$precipIntensityMaxTime,na.rm=TRUE)"
   ]
  },
  {
   "cell_type": "code",
   "execution_count": 7,
   "id": "15b54a41",
   "metadata": {
    "vscode": {
     "languageId": "r"
    }
   },
   "outputs": [],
   "source": [
    "new_df = subset(new_df, select = -c(precipAccumulation))"
   ]
  },
  {
   "cell_type": "code",
   "execution_count": 8,
   "id": "15421ae2",
   "metadata": {
    "vscode": {
     "languageId": "r"
    }
   },
   "outputs": [],
   "source": [
    "# Data Redundancy and Transformation\n",
    "# Here we remove the redundant and covariant variables and further transform the data and bring all the variables to same scale"
   ]
  },
  {
   "cell_type": "code",
   "execution_count": 9,
   "id": "4c448f41",
   "metadata": {
    "vscode": {
     "languageId": "r"
    }
   },
   "outputs": [],
   "source": [
    "corMatrix = round(cor(new_df), 3)"
   ]
  },
  {
   "cell_type": "code",
   "execution_count": 10,
   "id": "6a449d0b",
   "metadata": {
    "vscode": {
     "languageId": "r"
    }
   },
   "outputs": [],
   "source": [
    "x = which(corMatrix[,7]<0.02 & corMatrix[,7]>-0.02)"
   ]
  },
  {
   "cell_type": "code",
   "execution_count": null,
   "id": "91a74f40",
   "metadata": {
    "vscode": {
     "languageId": "r"
    }
   },
   "outputs": [],
   "source": [
    "# As KNN is a distance-based algorithm, we normaloze the data with an intention to supress the effects of outliers to an extent\n",
    "# as well as using using Min-Max normalization will scale the range of all the variables, distribution between 0 and 1, thus to\n",
    "# give equal weightage to every feature"
   ]
  },
  {
   "cell_type": "code",
   "execution_count": 11,
   "id": "8ce63d80",
   "metadata": {
    "vscode": {
     "languageId": "r"
    }
   },
   "outputs": [],
   "source": [
    "new_df_1 = new_df[,-c(x)]"
   ]
  },
  {
   "cell_type": "code",
   "execution_count": 99,
   "id": "84ed2432",
   "metadata": {
    "vscode": {
     "languageId": "r"
    }
   },
   "outputs": [],
   "source": [
    "normalize <- function(x) {\n",
    "return ((x - min(x)) / (max(x) - min(x))) }"
   ]
  },
  {
   "cell_type": "code",
   "execution_count": 100,
   "id": "f5143dd8",
   "metadata": {
    "vscode": {
     "languageId": "r"
    }
   },
   "outputs": [],
   "source": [
    "new_df_1_sub = as.data.frame(lapply(new_df_1[,2:19], normalize))"
   ]
  },
  {
   "cell_type": "code",
   "execution_count": 101,
   "id": "433a41cf",
   "metadata": {
    "vscode": {
     "languageId": "r"
    }
   },
   "outputs": [
    {
     "data": {
      "text/plain": [
       " precipIntensityMax  precipProbability temperatureHigh  temperatureLow  \n",
       " Min.   :0.0000000   Min.   :0.0000    Min.   :0.0000   Min.   :0.0000  \n",
       " 1st Qu.:0.0003122   1st Qu.:0.0600    1st Qu.:0.6350   1st Qu.:0.6420  \n",
       " Median :0.0023414   Median :0.1600    Median :0.7380   Median :0.7423  \n",
       " Mean   :0.0156285   Mean   :0.3005    Mean   :0.7283   Mean   :0.7404  \n",
       " 3rd Qu.:0.0150628   3rd Qu.:0.5000    3rd Qu.:0.8359   3rd Qu.:0.8679  \n",
       " Max.   :1.0000000   Max.   :1.0000    Max.   :1.0000   Max.   :1.0000  \n",
       " apparentTemperatureLow    dewPoint         humidity         pressure     \n",
       " Min.   :0.0000         Min.   :0.0000   Min.   :0.0000   Min.   :0.0000  \n",
       " 1st Qu.:0.6416         1st Qu.:0.6743   1st Qu.:0.5816   1st Qu.:0.5674  \n",
       " Median :0.7315         Median :0.7602   Median :0.7245   Median :0.6051  \n",
       " Mean   :0.7288         Mean   :0.7673   Mean   :0.6793   Mean   :0.6124  \n",
       " 3rd Qu.:0.8410         3rd Qu.:0.8951   3rd Qu.:0.8163   3rd Qu.:0.6560  \n",
       " Max.   :1.0000         Max.   :1.0000   Max.   :1.0000   Max.   :1.0000  \n",
       "   windSpeed          windGust        cloudCover       uvIndex      \n",
       " Min.   :0.00000   Min.   :0.0000   Min.   :0.000   Min.   :0.0000  \n",
       " 1st Qu.:0.07115   1st Qu.:0.1167   1st Qu.:0.250   1st Qu.:0.1875  \n",
       " Median :0.12623   Median :0.2073   Median :0.520   Median :0.3125  \n",
       " Mean   :0.15575   Mean   :0.2204   Mean   :0.513   Mean   :0.3435  \n",
       " 3rd Qu.:0.20909   3rd Qu.:0.3004   3rd Qu.:0.790   3rd Qu.:0.5000  \n",
       " Max.   :1.00000   Max.   :1.0000   Max.   :1.000   Max.   :1.0000  \n",
       "   visibility         ozone        temperatureMin   apparentTemperatureMin\n",
       " Min.   :0.0000   Min.   :0.0000   Min.   :0.0000   Min.   :0.0000        \n",
       " 1st Qu.:0.9677   1st Qu.:0.1615   1st Qu.:0.6456   1st Qu.:0.6375        \n",
       " Median :1.0000   Median :0.2788   Median :0.7446   Median :0.7263        \n",
       " Mean   :0.9384   Mean   :0.3133   Mean   :0.7440   Mean   :0.7254        \n",
       " 3rd Qu.:1.0000   3rd Qu.:0.4427   3rd Qu.:0.8725   3rd Qu.:0.8397        \n",
       " Max.   :1.0000   Max.   :1.0000   Max.   :1.0000   Max.   :1.0000        \n",
       "      Lat              Long       \n",
       " Min.   :0.0000   Min.   :0.0000  \n",
       " 1st Qu.:0.4811   1st Qu.:0.2586  \n",
       " Median :0.6538   Median :0.5017  \n",
       " Mean   :0.5951   Mean   :0.4862  \n",
       " 3rd Qu.:0.7389   3rd Qu.:0.6468  \n",
       " Max.   :1.0000   Max.   :1.0000  "
      ]
     },
     "metadata": {},
     "output_type": "display_data"
    }
   ],
   "source": [
    "summary(new_df_1_sub)"
   ]
  },
  {
   "cell_type": "code",
   "execution_count": 102,
   "id": "c408c5df",
   "metadata": {
    "vscode": {
     "languageId": "r"
    }
   },
   "outputs": [],
   "source": [
    "# As we have removed the columns with least correlation, we further cube root transform the response data to rescale it."
   ]
  },
  {
   "cell_type": "code",
   "execution_count": 103,
   "id": "e313ff7e",
   "metadata": {
    "vscode": {
     "languageId": "r"
    }
   },
   "outputs": [],
   "source": [
    "new_df_1_cube = sign(new_df_1[,1])*((abs(new_df_1[,1]))^(1/3))"
   ]
  },
  {
   "cell_type": "code",
   "execution_count": 104,
   "id": "6adde282",
   "metadata": {
    "vscode": {
     "languageId": "r"
    }
   },
   "outputs": [],
   "source": [
    "# we split the data in 80 20 proportion"
   ]
  },
  {
   "cell_type": "code",
   "execution_count": 181,
   "id": "b726f1d9",
   "metadata": {
    "vscode": {
     "languageId": "r"
    }
   },
   "outputs": [],
   "source": [
    "set.seed(400)\n",
    "indexes = createDataPartition(new_df_1[,1], p = .80, list = F)\n",
    "train = new_df_1[indexes, ]\n",
    "test = new_df_1[-indexes, ]\n",
    "\n",
    "\n",
    "train_x = train[,-1]\n",
    "train_y = train[,1]\n",
    "\n",
    "test_x = test[, -1]\n",
    "test_y = test[,1]"
   ]
  },
  {
   "cell_type": "code",
   "execution_count": 185,
   "id": "7441d19d",
   "metadata": {
    "scrolled": true,
    "vscode": {
     "languageId": "r"
    }
   },
   "outputs": [
    {
     "data": {
      "text/html": [
       "<table class=\"dataframe\">\n",
       "<caption>A data.frame: 24552 × 18</caption>\n",
       "<thead>\n",
       "\t<tr><th></th><th scope=col>precipIntensityMax</th><th scope=col>precipProbability</th><th scope=col>temperatureHigh</th><th scope=col>temperatureLow</th><th scope=col>apparentTemperatureLow</th><th scope=col>dewPoint</th><th scope=col>humidity</th><th scope=col>pressure</th><th scope=col>windSpeed</th><th scope=col>windGust</th><th scope=col>cloudCover</th><th scope=col>uvIndex</th><th scope=col>visibility</th><th scope=col>ozone</th><th scope=col>temperatureMin</th><th scope=col>apparentTemperatureMin</th><th scope=col>Lat</th><th scope=col>Long</th></tr>\n",
       "\t<tr><th></th><th scope=col>&lt;dbl&gt;</th><th scope=col>&lt;dbl&gt;</th><th scope=col>&lt;dbl&gt;</th><th scope=col>&lt;dbl&gt;</th><th scope=col>&lt;dbl&gt;</th><th scope=col>&lt;dbl&gt;</th><th scope=col>&lt;dbl&gt;</th><th scope=col>&lt;dbl&gt;</th><th scope=col>&lt;dbl&gt;</th><th scope=col>&lt;dbl&gt;</th><th scope=col>&lt;dbl&gt;</th><th scope=col>&lt;int&gt;</th><th scope=col>&lt;dbl&gt;</th><th scope=col>&lt;dbl&gt;</th><th scope=col>&lt;dbl&gt;</th><th scope=col>&lt;dbl&gt;</th><th scope=col>&lt;dbl&gt;</th><th scope=col>&lt;dbl&gt;</th></tr>\n",
       "</thead>\n",
       "<tbody>\n",
       "\t<tr><th scope=row>1</th><td>0.1515</td><td>0.71</td><td>48.36</td><td>32.13</td><td>29.04</td><td>23.88</td><td>0.60</td><td>1019.1</td><td>2.56</td><td> 6.60</td><td>0.99</td><td>2</td><td> 5.534</td><td>372.6</td><td>32.96</td><td>30.51</td><td>33</td><td>65</td></tr>\n",
       "\t<tr><th scope=row>2</th><td>0.0985</td><td>0.95</td><td>40.42</td><td>28.90</td><td>26.27</td><td>33.61</td><td>0.90</td><td>1021.2</td><td>2.06</td><td> 7.08</td><td>0.99</td><td>2</td><td> 1.192</td><td>330.2</td><td>32.33</td><td>29.84</td><td>33</td><td>65</td></tr>\n",
       "\t<tr><th scope=row>6</th><td>0.0442</td><td>0.91</td><td>44.54</td><td>28.10</td><td>22.90</td><td>34.56</td><td>0.85</td><td>1016.7</td><td>2.60</td><td> 7.68</td><td>0.74</td><td>3</td><td> 5.383</td><td>323.1</td><td>34.89</td><td>32.83</td><td>33</td><td>65</td></tr>\n",
       "\t<tr><th scope=row>8</th><td>0.0002</td><td>0.03</td><td>44.69</td><td>26.65</td><td>21.20</td><td>10.64</td><td>0.41</td><td>1025.3</td><td>5.06</td><td>13.91</td><td>0.00</td><td>3</td><td>10.000</td><td>319.7</td><td>23.66</td><td>15.87</td><td>33</td><td>65</td></tr>\n",
       "\t<tr><th scope=row>9</th><td>0.0001</td><td>0.01</td><td>48.08</td><td>24.53</td><td>18.64</td><td> 6.56</td><td>0.31</td><td>1023.1</td><td>3.56</td><td> 7.66</td><td>0.01</td><td>3</td><td>10.000</td><td>322.0</td><td>26.65</td><td>21.20</td><td>33</td><td>65</td></tr>\n",
       "\t<tr><th scope=row>10</th><td>0.0003</td><td>0.02</td><td>45.21</td><td>30.78</td><td>26.53</td><td> 7.94</td><td>0.34</td><td>1023.4</td><td>3.79</td><td> 8.06</td><td>0.39</td><td>3</td><td>10.000</td><td>317.2</td><td>24.53</td><td>18.64</td><td>33</td><td>65</td></tr>\n",
       "\t<tr><th scope=row>11</th><td>0.0340</td><td>0.75</td><td>40.02</td><td>31.64</td><td>30.79</td><td>27.14</td><td>0.76</td><td>1019.9</td><td>2.80</td><td> 7.88</td><td>1.00</td><td>2</td><td> 3.269</td><td>313.1</td><td>30.78</td><td>26.53</td><td>33</td><td>65</td></tr>\n",
       "\t<tr><th scope=row>12</th><td>0.0954</td><td>0.88</td><td>37.52</td><td>25.23</td><td>24.23</td><td>30.29</td><td>0.89</td><td>1013.7</td><td>2.76</td><td> 7.99</td><td>0.99</td><td>2</td><td> 0.405</td><td>320.7</td><td>28.38</td><td>27.19</td><td>33</td><td>65</td></tr>\n",
       "\t<tr><th scope=row>13</th><td>0.0065</td><td>0.34</td><td>34.74</td><td>20.15</td><td>14.37</td><td>22.14</td><td>0.78</td><td>1019.4</td><td>2.76</td><td> 6.54</td><td>0.76</td><td>3</td><td> 5.515</td><td>336.9</td><td>22.92</td><td>17.48</td><td>33</td><td>65</td></tr>\n",
       "\t<tr><th scope=row>14</th><td>0.0000</td><td>0.00</td><td>35.45</td><td>23.12</td><td>16.54</td><td>14.70</td><td>0.60</td><td>1022.7</td><td>2.96</td><td> 6.88</td><td>0.91</td><td>2</td><td>10.000</td><td>351.8</td><td>20.15</td><td>14.37</td><td>33</td><td>65</td></tr>\n",
       "\t<tr><th scope=row>16</th><td>0.0002</td><td>0.03</td><td>39.47</td><td>13.98</td><td> 6.79</td><td>12.64</td><td>0.51</td><td>1026.9</td><td>4.19</td><td> 9.35</td><td>0.46</td><td>3</td><td>10.000</td><td>329.2</td><td>22.36</td><td>15.57</td><td>33</td><td>65</td></tr>\n",
       "\t<tr><th scope=row>17</th><td>0.0004</td><td>0.04</td><td>36.85</td><td>21.40</td><td>16.06</td><td>10.69</td><td>0.55</td><td>1027.7</td><td>3.27</td><td> 7.96</td><td>0.03</td><td>4</td><td>10.000</td><td>312.9</td><td>13.98</td><td> 6.79</td><td>33</td><td>65</td></tr>\n",
       "\t<tr><th scope=row>18</th><td>0.0002</td><td>0.03</td><td>41.74</td><td>28.36</td><td>23.46</td><td>10.74</td><td>0.44</td><td>1027.1</td><td>3.09</td><td> 7.97</td><td>0.16</td><td>4</td><td>10.000</td><td>301.9</td><td>21.40</td><td>16.06</td><td>33</td><td>65</td></tr>\n",
       "\t<tr><th scope=row>19</th><td>0.0084</td><td>0.22</td><td>44.11</td><td>29.77</td><td>26.09</td><td>20.63</td><td>0.59</td><td>1022.7</td><td>3.57</td><td> 7.95</td><td>0.78</td><td>3</td><td> 8.355</td><td>303.6</td><td>28.47</td><td>23.98</td><td>33</td><td>65</td></tr>\n",
       "\t<tr><th scope=row>20</th><td>0.0059</td><td>0.24</td><td>41.28</td><td>30.25</td><td>28.41</td><td>26.46</td><td>0.74</td><td>1019.7</td><td>2.86</td><td> 6.64</td><td>0.82</td><td>3</td><td> 9.466</td><td>314.5</td><td>29.77</td><td>26.09</td><td>33</td><td>65</td></tr>\n",
       "\t<tr><th scope=row>23</th><td>0.0279</td><td>0.41</td><td>44.49</td><td>33.14</td><td>32.79</td><td>24.17</td><td>0.64</td><td>1025.7</td><td>3.65</td><td> 8.57</td><td>0.69</td><td>3</td><td> 8.348</td><td>300.5</td><td>28.13</td><td>22.81</td><td>33</td><td>65</td></tr>\n",
       "\t<tr><th scope=row>24</th><td>0.1092</td><td>0.74</td><td>41.56</td><td>29.60</td><td>23.91</td><td>32.50</td><td>0.86</td><td>1019.7</td><td>2.30</td><td> 7.06</td><td>0.95</td><td>3</td><td> 1.831</td><td>294.5</td><td>32.95</td><td>32.04</td><td>33</td><td>65</td></tr>\n",
       "\t<tr><th scope=row>25</th><td>0.0018</td><td>0.11</td><td>43.36</td><td>23.61</td><td>17.26</td><td>27.49</td><td>0.73</td><td>1021.8</td><td>3.90</td><td> 9.42</td><td>0.12</td><td>4</td><td>10.000</td><td>302.2</td><td>27.93</td><td>22.85</td><td>33</td><td>65</td></tr>\n",
       "\t<tr><th scope=row>28</th><td>0.0000</td><td>0.00</td><td>43.57</td><td>18.55</td><td>10.89</td><td>12.41</td><td>0.50</td><td>1021.6</td><td>5.27</td><td>11.93</td><td>0.00</td><td>4</td><td>10.000</td><td>315.0</td><td>18.89</td><td>10.25</td><td>33</td><td>65</td></tr>\n",
       "\t<tr><th scope=row>29</th><td>0.0003</td><td>0.03</td><td>42.89</td><td>21.53</td><td>15.11</td><td> 6.67</td><td>0.40</td><td>1025.1</td><td>3.86</td><td>10.61</td><td>0.00</td><td>4</td><td>10.000</td><td>308.9</td><td>18.55</td><td>10.89</td><td>33</td><td>65</td></tr>\n",
       "\t<tr><th scope=row>30</th><td>0.0003</td><td>0.02</td><td>45.14</td><td>24.28</td><td>19.43</td><td> 9.93</td><td>0.42</td><td>1024.2</td><td>3.91</td><td> 8.82</td><td>0.12</td><td>4</td><td>10.000</td><td>316.8</td><td>21.53</td><td>15.11</td><td>33</td><td>65</td></tr>\n",
       "\t<tr><th scope=row>31</th><td>0.0002</td><td>0.04</td><td>43.93</td><td>23.94</td><td>17.63</td><td>16.01</td><td>0.52</td><td>1022.0</td><td>3.33</td><td> 7.48</td><td>0.45</td><td>4</td><td>10.000</td><td>345.2</td><td>24.28</td><td>19.43</td><td>33</td><td>65</td></tr>\n",
       "\t<tr><th scope=row>33</th><td>0.0016</td><td>0.04</td><td>48.22</td><td>31.77</td><td>30.84</td><td>19.20</td><td>0.52</td><td>1022.4</td><td>3.97</td><td> 9.63</td><td>0.05</td><td>4</td><td>10.000</td><td>327.9</td><td>24.89</td><td>18.62</td><td>33</td><td>65</td></tr>\n",
       "\t<tr><th scope=row>34</th><td>0.0762</td><td>0.84</td><td>41.47</td><td>19.35</td><td>11.60</td><td>30.04</td><td>0.83</td><td>1020.0</td><td>2.26</td><td> 8.12</td><td>0.96</td><td>3</td><td> 3.493</td><td>340.5</td><td>27.75</td><td>23.34</td><td>33</td><td>65</td></tr>\n",
       "\t<tr><th scope=row>35</th><td>0.0003</td><td>0.05</td><td>42.53</td><td>22.44</td><td>15.79</td><td>15.22</td><td>0.56</td><td>1024.4</td><td>4.44</td><td>10.38</td><td>0.17</td><td>5</td><td>10.000</td><td>309.9</td><td>19.35</td><td>11.60</td><td>33</td><td>65</td></tr>\n",
       "\t<tr><th scope=row>36</th><td>0.0003</td><td>0.04</td><td>46.06</td><td>24.43</td><td>17.24</td><td>14.66</td><td>0.49</td><td>1024.2</td><td>3.91</td><td> 9.25</td><td>0.32</td><td>3</td><td>10.000</td><td>317.6</td><td>22.44</td><td>15.79</td><td>33</td><td>65</td></tr>\n",
       "\t<tr><th scope=row>38</th><td>0.0003</td><td>0.03</td><td>49.62</td><td>29.76</td><td>24.96</td><td>12.28</td><td>0.37</td><td>1025.7</td><td>3.89</td><td> 9.21</td><td>0.00</td><td>5</td><td>10.000</td><td>292.8</td><td>26.58</td><td>20.37</td><td>33</td><td>65</td></tr>\n",
       "\t<tr><th scope=row>39</th><td>0.0003</td><td>0.02</td><td>51.43</td><td>31.90</td><td>27.02</td><td>19.33</td><td>0.45</td><td>1024.7</td><td>3.05</td><td> 7.26</td><td>0.00</td><td>5</td><td>10.000</td><td>280.5</td><td>29.76</td><td>24.96</td><td>33</td><td>65</td></tr>\n",
       "\t<tr><th scope=row>41</th><td>0.0512</td><td>0.97</td><td>39.75</td><td>38.26</td><td>35.44</td><td>32.74</td><td>0.84</td><td>1018.8</td><td>4.06</td><td>11.63</td><td>0.88</td><td>4</td><td> 7.113</td><td>286.8</td><td>35.17</td><td>30.74</td><td>33</td><td>65</td></tr>\n",
       "\t<tr><th scope=row>42</th><td>0.1087</td><td>0.99</td><td>45.37</td><td>40.31</td><td>37.61</td><td>38.02</td><td>0.88</td><td>1015.6</td><td>3.04</td><td>13.29</td><td>0.98</td><td>4</td><td> 7.890</td><td>299.0</td><td>38.26</td><td>38.72</td><td>33</td><td>65</td></tr>\n",
       "\t<tr><th scope=row>⋮</th><td>⋮</td><td>⋮</td><td>⋮</td><td>⋮</td><td>⋮</td><td>⋮</td><td>⋮</td><td>⋮</td><td>⋮</td><td>⋮</td><td>⋮</td><td>⋮</td><td>⋮</td><td>⋮</td><td>⋮</td><td>⋮</td><td>⋮</td><td>⋮</td></tr>\n",
       "\t<tr><th scope=row>30654</th><td>0.0063</td><td>0.26</td><td>77.13</td><td>60.11</td><td>60.92</td><td>62.21</td><td>0.79</td><td>1012.9</td><td> 8.10</td><td>21.92</td><td>0.91</td><td> 6</td><td>10.000</td><td>262.3</td><td>62.81</td><td>63.63</td><td>-15.4167</td><td>28.2833</td></tr>\n",
       "\t<tr><th scope=row>30655</th><td>0.0148</td><td>0.37</td><td>78.32</td><td>59.91</td><td>60.41</td><td>61.52</td><td>0.80</td><td>1012.6</td><td> 6.75</td><td>21.45</td><td>0.80</td><td> 6</td><td> 9.901</td><td>258.0</td><td>60.11</td><td>60.92</td><td>-15.4167</td><td>28.2833</td></tr>\n",
       "\t<tr><th scope=row>30656</th><td>0.0007</td><td>0.10</td><td>78.52</td><td>64.92</td><td>65.41</td><td>61.55</td><td>0.78</td><td>1012.7</td><td> 7.40</td><td>25.58</td><td>0.79</td><td> 7</td><td>10.000</td><td>254.9</td><td>59.91</td><td>60.41</td><td>-15.4167</td><td>28.2833</td></tr>\n",
       "\t<tr><th scope=row>30657</th><td>0.0157</td><td>0.40</td><td>76.45</td><td>64.24</td><td>65.02</td><td>59.95</td><td>0.74</td><td>1012.5</td><td> 8.02</td><td>26.00</td><td>0.77</td><td> 6</td><td>10.000</td><td>251.3</td><td>64.92</td><td>65.41</td><td>-15.4167</td><td>28.2833</td></tr>\n",
       "\t<tr><th scope=row>30658</th><td>0.0051</td><td>0.44</td><td>77.10</td><td>63.08</td><td>63.57</td><td>62.22</td><td>0.80</td><td>1013.5</td><td> 7.78</td><td>24.30</td><td>0.89</td><td> 7</td><td>10.000</td><td>252.8</td><td>64.05</td><td>64.64</td><td>-15.4167</td><td>28.2833</td></tr>\n",
       "\t<tr><th scope=row>30659</th><td>0.0004</td><td>0.10</td><td>77.78</td><td>60.40</td><td>61.15</td><td>60.54</td><td>0.74</td><td>1015.1</td><td> 7.42</td><td>23.91</td><td>0.61</td><td> 6</td><td>10.000</td><td>251.3</td><td>63.08</td><td>63.57</td><td>-15.4167</td><td>28.2833</td></tr>\n",
       "\t<tr><th scope=row>30660</th><td>0.0010</td><td>0.06</td><td>80.78</td><td>61.76</td><td>62.43</td><td>60.94</td><td>0.73</td><td>1013.3</td><td> 6.42</td><td>17.89</td><td>0.44</td><td>10</td><td>10.000</td><td>251.9</td><td>60.40</td><td>61.15</td><td>-15.4167</td><td>28.2833</td></tr>\n",
       "\t<tr><th scope=row>30662</th><td>0.0172</td><td>0.32</td><td>83.14</td><td>63.57</td><td>64.34</td><td>60.70</td><td>0.68</td><td>1008.6</td><td> 4.50</td><td>11.55</td><td>0.73</td><td> 8</td><td> 9.610</td><td>254.6</td><td>62.19</td><td>62.68</td><td>-15.4167</td><td>28.2833</td></tr>\n",
       "\t<tr><th scope=row>30663</th><td>0.1201</td><td>0.69</td><td>76.78</td><td>61.60</td><td>62.30</td><td>62.87</td><td>0.84</td><td>1011.7</td><td> 3.64</td><td>10.58</td><td>0.92</td><td> 6</td><td> 9.797</td><td>259.1</td><td>63.43</td><td>63.96</td><td>-15.4167</td><td>28.2833</td></tr>\n",
       "\t<tr><th scope=row>30665</th><td>0.0006</td><td>0.04</td><td>79.68</td><td>60.71</td><td>61.20</td><td>59.33</td><td>0.70</td><td>1013.3</td><td> 7.81</td><td>23.98</td><td>0.35</td><td> 9</td><td>10.000</td><td>259.8</td><td>61.55</td><td>62.04</td><td>-15.4167</td><td>28.2833</td></tr>\n",
       "\t<tr><th scope=row>30666</th><td>0.0044</td><td>0.13</td><td>80.51</td><td>61.28</td><td>61.77</td><td>59.14</td><td>0.68</td><td>1011.8</td><td> 7.26</td><td>20.03</td><td>0.56</td><td>11</td><td>10.000</td><td>258.1</td><td>60.71</td><td>61.20</td><td>-15.4167</td><td>28.2833</td></tr>\n",
       "\t<tr><th scope=row>30667</th><td>0.0003</td><td>0.07</td><td>81.94</td><td>60.68</td><td>61.17</td><td>58.38</td><td>0.65</td><td>1012.2</td><td> 7.01</td><td>20.86</td><td>0.55</td><td> 8</td><td>10.000</td><td>260.3</td><td>61.28</td><td>61.77</td><td>-15.4167</td><td>28.2833</td></tr>\n",
       "\t<tr><th scope=row>30668</th><td>0.0004</td><td>0.05</td><td>83.89</td><td>63.45</td><td>63.94</td><td>57.23</td><td>0.62</td><td>1012.6</td><td> 6.28</td><td>14.02</td><td>0.02</td><td>13</td><td>10.000</td><td>258.2</td><td>60.68</td><td>61.17</td><td>-15.4167</td><td>28.2833</td></tr>\n",
       "\t<tr><th scope=row>30669</th><td>0.0004</td><td>0.04</td><td>79.24</td><td>60.77</td><td>61.26</td><td>56.73</td><td>0.63</td><td>1013.3</td><td>10.87</td><td>29.84</td><td>0.31</td><td> 8</td><td>10.000</td><td>257.6</td><td>63.45</td><td>63.94</td><td>-15.4167</td><td>28.2833</td></tr>\n",
       "\t<tr><th scope=row>30670</th><td>0.0024</td><td>0.07</td><td>77.39</td><td>59.92</td><td>60.41</td><td>58.00</td><td>0.71</td><td>1014.7</td><td> 9.33</td><td>29.17</td><td>0.51</td><td> 7</td><td>10.000</td><td>254.9</td><td>60.77</td><td>61.26</td><td>-15.4167</td><td>28.2833</td></tr>\n",
       "\t<tr><th scope=row>30671</th><td>0.0006</td><td>0.09</td><td>79.34</td><td>58.28</td><td>58.77</td><td>56.79</td><td>0.68</td><td>1014.8</td><td> 6.92</td><td>19.79</td><td>0.33</td><td>10</td><td>10.000</td><td>258.5</td><td>59.92</td><td>60.41</td><td>-15.4167</td><td>28.2833</td></tr>\n",
       "\t<tr><th scope=row>30672</th><td>0.0002</td><td>0.02</td><td>81.53</td><td>62.94</td><td>63.43</td><td>54.86</td><td>0.61</td><td>1014.1</td><td> 4.68</td><td>12.25</td><td>0.24</td><td> 9</td><td>10.000</td><td>259.2</td><td>58.28</td><td>58.77</td><td>-15.4167</td><td>28.2833</td></tr>\n",
       "\t<tr><th scope=row>30673</th><td>0.0003</td><td>0.04</td><td>83.12</td><td>63.82</td><td>64.31</td><td>55.27</td><td>0.55</td><td>1012.5</td><td> 3.63</td><td> 7.46</td><td>0.42</td><td>10</td><td>10.000</td><td>260.8</td><td>62.94</td><td>63.43</td><td>-15.4167</td><td>28.2833</td></tr>\n",
       "\t<tr><th scope=row>30674</th><td>0.0003</td><td>0.04</td><td>84.95</td><td>62.94</td><td>63.43</td><td>56.61</td><td>0.55</td><td>1011.7</td><td> 3.56</td><td> 6.76</td><td>0.56</td><td> 7</td><td>10.000</td><td>263.8</td><td>63.82</td><td>64.31</td><td>-15.4167</td><td>28.2833</td></tr>\n",
       "\t<tr><th scope=row>30675</th><td>0.0036</td><td>0.21</td><td>83.89</td><td>63.55</td><td>64.16</td><td>59.88</td><td>0.66</td><td>1012.3</td><td> 6.50</td><td>24.68</td><td>0.29</td><td> 7</td><td>10.000</td><td>260.1</td><td>62.94</td><td>63.43</td><td>-15.4167</td><td>28.2833</td></tr>\n",
       "\t<tr><th scope=row>30676</th><td>0.0051</td><td>0.31</td><td>75.28</td><td>62.37</td><td>62.87</td><td>60.49</td><td>0.75</td><td>1015.6</td><td>13.02</td><td>30.93</td><td>0.48</td><td> 6</td><td>10.000</td><td>256.6</td><td>63.55</td><td>64.16</td><td>-15.4167</td><td>28.2833</td></tr>\n",
       "\t<tr><th scope=row>30677</th><td>0.0024</td><td>0.18</td><td>74.19</td><td>60.59</td><td>61.15</td><td>59.59</td><td>0.77</td><td>1016.3</td><td>11.78</td><td>29.46</td><td>0.57</td><td> 6</td><td>10.000</td><td>258.8</td><td>62.37</td><td>62.87</td><td>-15.4167</td><td>28.2833</td></tr>\n",
       "\t<tr><th scope=row>30678</th><td>0.0005</td><td>0.07</td><td>76.25</td><td>57.86</td><td>58.35</td><td>58.57</td><td>0.76</td><td>1015.9</td><td> 8.47</td><td>26.69</td><td>0.91</td><td> 6</td><td>10.000</td><td>261.4</td><td>60.59</td><td>61.15</td><td>-15.4167</td><td>28.2833</td></tr>\n",
       "\t<tr><th scope=row>30680</th><td>0.0003</td><td>0.07</td><td>83.90</td><td>65.20</td><td>65.69</td><td>56.50</td><td>0.61</td><td>1012.5</td><td> 5.66</td><td>12.17</td><td>0.36</td><td> 9</td><td>10.000</td><td>260.6</td><td>59.40</td><td>59.89</td><td>-15.4167</td><td>28.2833</td></tr>\n",
       "\t<tr><th scope=row>30681</th><td>0.0145</td><td>0.20</td><td>85.22</td><td>62.64</td><td>63.13</td><td>57.02</td><td>0.56</td><td>1011.9</td><td> 5.55</td><td>12.74</td><td>0.58</td><td>11</td><td>10.000</td><td>254.6</td><td>65.20</td><td>65.69</td><td>-15.4167</td><td>28.2833</td></tr>\n",
       "\t<tr><th scope=row>30682</th><td>0.0139</td><td>0.26</td><td>84.07</td><td>63.78</td><td>64.27</td><td>59.55</td><td>0.63</td><td>1011.9</td><td> 4.70</td><td>11.62</td><td>0.45</td><td>10</td><td>10.000</td><td>253.2</td><td>62.64</td><td>63.13</td><td>-15.4167</td><td>28.2833</td></tr>\n",
       "\t<tr><th scope=row>30683</th><td>0.0082</td><td>0.17</td><td>85.25</td><td>64.75</td><td>65.24</td><td>57.86</td><td>0.58</td><td>1012.0</td><td> 6.41</td><td>17.78</td><td>0.22</td><td>11</td><td>10.000</td><td>255.6</td><td>63.78</td><td>64.27</td><td>-15.4167</td><td>28.2833</td></tr>\n",
       "\t<tr><th scope=row>30684</th><td>0.0016</td><td>0.08</td><td>83.88</td><td>64.88</td><td>65.37</td><td>56.82</td><td>0.56</td><td>1012.1</td><td> 8.41</td><td>24.60</td><td>0.15</td><td> 9</td><td>10.000</td><td>253.5</td><td>64.75</td><td>65.24</td><td>-15.4167</td><td>28.2833</td></tr>\n",
       "\t<tr><th scope=row>30685</th><td>0.0004</td><td>0.06</td><td>80.93</td><td>62.31</td><td>62.80</td><td>57.30</td><td>0.62</td><td>1015.5</td><td>10.94</td><td>30.26</td><td>0.25</td><td> 8</td><td>10.000</td><td>254.3</td><td>64.88</td><td>65.37</td><td>-15.4167</td><td>28.2833</td></tr>\n",
       "\t<tr><th scope=row>30688</th><td>0.0003</td><td>0.04</td><td>80.26</td><td>55.66</td><td>56.15</td><td>49.03</td><td>0.55</td><td>1015.2</td><td> 5.48</td><td>14.26</td><td>0.22</td><td>11</td><td>10.000</td><td>257.0</td><td>54.93</td><td>55.42</td><td>-15.4167</td><td>28.2833</td></tr>\n",
       "</tbody>\n",
       "</table>\n"
      ],
      "text/latex": [
       "A data.frame: 24552 × 18\n",
       "\\begin{tabular}{r|llllllllllllllllll}\n",
       "  & precipIntensityMax & precipProbability & temperatureHigh & temperatureLow & apparentTemperatureLow & dewPoint & humidity & pressure & windSpeed & windGust & cloudCover & uvIndex & visibility & ozone & temperatureMin & apparentTemperatureMin & Lat & Long\\\\\n",
       "  & <dbl> & <dbl> & <dbl> & <dbl> & <dbl> & <dbl> & <dbl> & <dbl> & <dbl> & <dbl> & <dbl> & <int> & <dbl> & <dbl> & <dbl> & <dbl> & <dbl> & <dbl>\\\\\n",
       "\\hline\n",
       "\t1 & 0.1515 & 0.71 & 48.36 & 32.13 & 29.04 & 23.88 & 0.60 & 1019.1 & 2.56 &  6.60 & 0.99 & 2 &  5.534 & 372.6 & 32.96 & 30.51 & 33 & 65\\\\\n",
       "\t2 & 0.0985 & 0.95 & 40.42 & 28.90 & 26.27 & 33.61 & 0.90 & 1021.2 & 2.06 &  7.08 & 0.99 & 2 &  1.192 & 330.2 & 32.33 & 29.84 & 33 & 65\\\\\n",
       "\t6 & 0.0442 & 0.91 & 44.54 & 28.10 & 22.90 & 34.56 & 0.85 & 1016.7 & 2.60 &  7.68 & 0.74 & 3 &  5.383 & 323.1 & 34.89 & 32.83 & 33 & 65\\\\\n",
       "\t8 & 0.0002 & 0.03 & 44.69 & 26.65 & 21.20 & 10.64 & 0.41 & 1025.3 & 5.06 & 13.91 & 0.00 & 3 & 10.000 & 319.7 & 23.66 & 15.87 & 33 & 65\\\\\n",
       "\t9 & 0.0001 & 0.01 & 48.08 & 24.53 & 18.64 &  6.56 & 0.31 & 1023.1 & 3.56 &  7.66 & 0.01 & 3 & 10.000 & 322.0 & 26.65 & 21.20 & 33 & 65\\\\\n",
       "\t10 & 0.0003 & 0.02 & 45.21 & 30.78 & 26.53 &  7.94 & 0.34 & 1023.4 & 3.79 &  8.06 & 0.39 & 3 & 10.000 & 317.2 & 24.53 & 18.64 & 33 & 65\\\\\n",
       "\t11 & 0.0340 & 0.75 & 40.02 & 31.64 & 30.79 & 27.14 & 0.76 & 1019.9 & 2.80 &  7.88 & 1.00 & 2 &  3.269 & 313.1 & 30.78 & 26.53 & 33 & 65\\\\\n",
       "\t12 & 0.0954 & 0.88 & 37.52 & 25.23 & 24.23 & 30.29 & 0.89 & 1013.7 & 2.76 &  7.99 & 0.99 & 2 &  0.405 & 320.7 & 28.38 & 27.19 & 33 & 65\\\\\n",
       "\t13 & 0.0065 & 0.34 & 34.74 & 20.15 & 14.37 & 22.14 & 0.78 & 1019.4 & 2.76 &  6.54 & 0.76 & 3 &  5.515 & 336.9 & 22.92 & 17.48 & 33 & 65\\\\\n",
       "\t14 & 0.0000 & 0.00 & 35.45 & 23.12 & 16.54 & 14.70 & 0.60 & 1022.7 & 2.96 &  6.88 & 0.91 & 2 & 10.000 & 351.8 & 20.15 & 14.37 & 33 & 65\\\\\n",
       "\t16 & 0.0002 & 0.03 & 39.47 & 13.98 &  6.79 & 12.64 & 0.51 & 1026.9 & 4.19 &  9.35 & 0.46 & 3 & 10.000 & 329.2 & 22.36 & 15.57 & 33 & 65\\\\\n",
       "\t17 & 0.0004 & 0.04 & 36.85 & 21.40 & 16.06 & 10.69 & 0.55 & 1027.7 & 3.27 &  7.96 & 0.03 & 4 & 10.000 & 312.9 & 13.98 &  6.79 & 33 & 65\\\\\n",
       "\t18 & 0.0002 & 0.03 & 41.74 & 28.36 & 23.46 & 10.74 & 0.44 & 1027.1 & 3.09 &  7.97 & 0.16 & 4 & 10.000 & 301.9 & 21.40 & 16.06 & 33 & 65\\\\\n",
       "\t19 & 0.0084 & 0.22 & 44.11 & 29.77 & 26.09 & 20.63 & 0.59 & 1022.7 & 3.57 &  7.95 & 0.78 & 3 &  8.355 & 303.6 & 28.47 & 23.98 & 33 & 65\\\\\n",
       "\t20 & 0.0059 & 0.24 & 41.28 & 30.25 & 28.41 & 26.46 & 0.74 & 1019.7 & 2.86 &  6.64 & 0.82 & 3 &  9.466 & 314.5 & 29.77 & 26.09 & 33 & 65\\\\\n",
       "\t23 & 0.0279 & 0.41 & 44.49 & 33.14 & 32.79 & 24.17 & 0.64 & 1025.7 & 3.65 &  8.57 & 0.69 & 3 &  8.348 & 300.5 & 28.13 & 22.81 & 33 & 65\\\\\n",
       "\t24 & 0.1092 & 0.74 & 41.56 & 29.60 & 23.91 & 32.50 & 0.86 & 1019.7 & 2.30 &  7.06 & 0.95 & 3 &  1.831 & 294.5 & 32.95 & 32.04 & 33 & 65\\\\\n",
       "\t25 & 0.0018 & 0.11 & 43.36 & 23.61 & 17.26 & 27.49 & 0.73 & 1021.8 & 3.90 &  9.42 & 0.12 & 4 & 10.000 & 302.2 & 27.93 & 22.85 & 33 & 65\\\\\n",
       "\t28 & 0.0000 & 0.00 & 43.57 & 18.55 & 10.89 & 12.41 & 0.50 & 1021.6 & 5.27 & 11.93 & 0.00 & 4 & 10.000 & 315.0 & 18.89 & 10.25 & 33 & 65\\\\\n",
       "\t29 & 0.0003 & 0.03 & 42.89 & 21.53 & 15.11 &  6.67 & 0.40 & 1025.1 & 3.86 & 10.61 & 0.00 & 4 & 10.000 & 308.9 & 18.55 & 10.89 & 33 & 65\\\\\n",
       "\t30 & 0.0003 & 0.02 & 45.14 & 24.28 & 19.43 &  9.93 & 0.42 & 1024.2 & 3.91 &  8.82 & 0.12 & 4 & 10.000 & 316.8 & 21.53 & 15.11 & 33 & 65\\\\\n",
       "\t31 & 0.0002 & 0.04 & 43.93 & 23.94 & 17.63 & 16.01 & 0.52 & 1022.0 & 3.33 &  7.48 & 0.45 & 4 & 10.000 & 345.2 & 24.28 & 19.43 & 33 & 65\\\\\n",
       "\t33 & 0.0016 & 0.04 & 48.22 & 31.77 & 30.84 & 19.20 & 0.52 & 1022.4 & 3.97 &  9.63 & 0.05 & 4 & 10.000 & 327.9 & 24.89 & 18.62 & 33 & 65\\\\\n",
       "\t34 & 0.0762 & 0.84 & 41.47 & 19.35 & 11.60 & 30.04 & 0.83 & 1020.0 & 2.26 &  8.12 & 0.96 & 3 &  3.493 & 340.5 & 27.75 & 23.34 & 33 & 65\\\\\n",
       "\t35 & 0.0003 & 0.05 & 42.53 & 22.44 & 15.79 & 15.22 & 0.56 & 1024.4 & 4.44 & 10.38 & 0.17 & 5 & 10.000 & 309.9 & 19.35 & 11.60 & 33 & 65\\\\\n",
       "\t36 & 0.0003 & 0.04 & 46.06 & 24.43 & 17.24 & 14.66 & 0.49 & 1024.2 & 3.91 &  9.25 & 0.32 & 3 & 10.000 & 317.6 & 22.44 & 15.79 & 33 & 65\\\\\n",
       "\t38 & 0.0003 & 0.03 & 49.62 & 29.76 & 24.96 & 12.28 & 0.37 & 1025.7 & 3.89 &  9.21 & 0.00 & 5 & 10.000 & 292.8 & 26.58 & 20.37 & 33 & 65\\\\\n",
       "\t39 & 0.0003 & 0.02 & 51.43 & 31.90 & 27.02 & 19.33 & 0.45 & 1024.7 & 3.05 &  7.26 & 0.00 & 5 & 10.000 & 280.5 & 29.76 & 24.96 & 33 & 65\\\\\n",
       "\t41 & 0.0512 & 0.97 & 39.75 & 38.26 & 35.44 & 32.74 & 0.84 & 1018.8 & 4.06 & 11.63 & 0.88 & 4 &  7.113 & 286.8 & 35.17 & 30.74 & 33 & 65\\\\\n",
       "\t42 & 0.1087 & 0.99 & 45.37 & 40.31 & 37.61 & 38.02 & 0.88 & 1015.6 & 3.04 & 13.29 & 0.98 & 4 &  7.890 & 299.0 & 38.26 & 38.72 & 33 & 65\\\\\n",
       "\t⋮ & ⋮ & ⋮ & ⋮ & ⋮ & ⋮ & ⋮ & ⋮ & ⋮ & ⋮ & ⋮ & ⋮ & ⋮ & ⋮ & ⋮ & ⋮ & ⋮ & ⋮ & ⋮\\\\\n",
       "\t30654 & 0.0063 & 0.26 & 77.13 & 60.11 & 60.92 & 62.21 & 0.79 & 1012.9 &  8.10 & 21.92 & 0.91 &  6 & 10.000 & 262.3 & 62.81 & 63.63 & -15.4167 & 28.2833\\\\\n",
       "\t30655 & 0.0148 & 0.37 & 78.32 & 59.91 & 60.41 & 61.52 & 0.80 & 1012.6 &  6.75 & 21.45 & 0.80 &  6 &  9.901 & 258.0 & 60.11 & 60.92 & -15.4167 & 28.2833\\\\\n",
       "\t30656 & 0.0007 & 0.10 & 78.52 & 64.92 & 65.41 & 61.55 & 0.78 & 1012.7 &  7.40 & 25.58 & 0.79 &  7 & 10.000 & 254.9 & 59.91 & 60.41 & -15.4167 & 28.2833\\\\\n",
       "\t30657 & 0.0157 & 0.40 & 76.45 & 64.24 & 65.02 & 59.95 & 0.74 & 1012.5 &  8.02 & 26.00 & 0.77 &  6 & 10.000 & 251.3 & 64.92 & 65.41 & -15.4167 & 28.2833\\\\\n",
       "\t30658 & 0.0051 & 0.44 & 77.10 & 63.08 & 63.57 & 62.22 & 0.80 & 1013.5 &  7.78 & 24.30 & 0.89 &  7 & 10.000 & 252.8 & 64.05 & 64.64 & -15.4167 & 28.2833\\\\\n",
       "\t30659 & 0.0004 & 0.10 & 77.78 & 60.40 & 61.15 & 60.54 & 0.74 & 1015.1 &  7.42 & 23.91 & 0.61 &  6 & 10.000 & 251.3 & 63.08 & 63.57 & -15.4167 & 28.2833\\\\\n",
       "\t30660 & 0.0010 & 0.06 & 80.78 & 61.76 & 62.43 & 60.94 & 0.73 & 1013.3 &  6.42 & 17.89 & 0.44 & 10 & 10.000 & 251.9 & 60.40 & 61.15 & -15.4167 & 28.2833\\\\\n",
       "\t30662 & 0.0172 & 0.32 & 83.14 & 63.57 & 64.34 & 60.70 & 0.68 & 1008.6 &  4.50 & 11.55 & 0.73 &  8 &  9.610 & 254.6 & 62.19 & 62.68 & -15.4167 & 28.2833\\\\\n",
       "\t30663 & 0.1201 & 0.69 & 76.78 & 61.60 & 62.30 & 62.87 & 0.84 & 1011.7 &  3.64 & 10.58 & 0.92 &  6 &  9.797 & 259.1 & 63.43 & 63.96 & -15.4167 & 28.2833\\\\\n",
       "\t30665 & 0.0006 & 0.04 & 79.68 & 60.71 & 61.20 & 59.33 & 0.70 & 1013.3 &  7.81 & 23.98 & 0.35 &  9 & 10.000 & 259.8 & 61.55 & 62.04 & -15.4167 & 28.2833\\\\\n",
       "\t30666 & 0.0044 & 0.13 & 80.51 & 61.28 & 61.77 & 59.14 & 0.68 & 1011.8 &  7.26 & 20.03 & 0.56 & 11 & 10.000 & 258.1 & 60.71 & 61.20 & -15.4167 & 28.2833\\\\\n",
       "\t30667 & 0.0003 & 0.07 & 81.94 & 60.68 & 61.17 & 58.38 & 0.65 & 1012.2 &  7.01 & 20.86 & 0.55 &  8 & 10.000 & 260.3 & 61.28 & 61.77 & -15.4167 & 28.2833\\\\\n",
       "\t30668 & 0.0004 & 0.05 & 83.89 & 63.45 & 63.94 & 57.23 & 0.62 & 1012.6 &  6.28 & 14.02 & 0.02 & 13 & 10.000 & 258.2 & 60.68 & 61.17 & -15.4167 & 28.2833\\\\\n",
       "\t30669 & 0.0004 & 0.04 & 79.24 & 60.77 & 61.26 & 56.73 & 0.63 & 1013.3 & 10.87 & 29.84 & 0.31 &  8 & 10.000 & 257.6 & 63.45 & 63.94 & -15.4167 & 28.2833\\\\\n",
       "\t30670 & 0.0024 & 0.07 & 77.39 & 59.92 & 60.41 & 58.00 & 0.71 & 1014.7 &  9.33 & 29.17 & 0.51 &  7 & 10.000 & 254.9 & 60.77 & 61.26 & -15.4167 & 28.2833\\\\\n",
       "\t30671 & 0.0006 & 0.09 & 79.34 & 58.28 & 58.77 & 56.79 & 0.68 & 1014.8 &  6.92 & 19.79 & 0.33 & 10 & 10.000 & 258.5 & 59.92 & 60.41 & -15.4167 & 28.2833\\\\\n",
       "\t30672 & 0.0002 & 0.02 & 81.53 & 62.94 & 63.43 & 54.86 & 0.61 & 1014.1 &  4.68 & 12.25 & 0.24 &  9 & 10.000 & 259.2 & 58.28 & 58.77 & -15.4167 & 28.2833\\\\\n",
       "\t30673 & 0.0003 & 0.04 & 83.12 & 63.82 & 64.31 & 55.27 & 0.55 & 1012.5 &  3.63 &  7.46 & 0.42 & 10 & 10.000 & 260.8 & 62.94 & 63.43 & -15.4167 & 28.2833\\\\\n",
       "\t30674 & 0.0003 & 0.04 & 84.95 & 62.94 & 63.43 & 56.61 & 0.55 & 1011.7 &  3.56 &  6.76 & 0.56 &  7 & 10.000 & 263.8 & 63.82 & 64.31 & -15.4167 & 28.2833\\\\\n",
       "\t30675 & 0.0036 & 0.21 & 83.89 & 63.55 & 64.16 & 59.88 & 0.66 & 1012.3 &  6.50 & 24.68 & 0.29 &  7 & 10.000 & 260.1 & 62.94 & 63.43 & -15.4167 & 28.2833\\\\\n",
       "\t30676 & 0.0051 & 0.31 & 75.28 & 62.37 & 62.87 & 60.49 & 0.75 & 1015.6 & 13.02 & 30.93 & 0.48 &  6 & 10.000 & 256.6 & 63.55 & 64.16 & -15.4167 & 28.2833\\\\\n",
       "\t30677 & 0.0024 & 0.18 & 74.19 & 60.59 & 61.15 & 59.59 & 0.77 & 1016.3 & 11.78 & 29.46 & 0.57 &  6 & 10.000 & 258.8 & 62.37 & 62.87 & -15.4167 & 28.2833\\\\\n",
       "\t30678 & 0.0005 & 0.07 & 76.25 & 57.86 & 58.35 & 58.57 & 0.76 & 1015.9 &  8.47 & 26.69 & 0.91 &  6 & 10.000 & 261.4 & 60.59 & 61.15 & -15.4167 & 28.2833\\\\\n",
       "\t30680 & 0.0003 & 0.07 & 83.90 & 65.20 & 65.69 & 56.50 & 0.61 & 1012.5 &  5.66 & 12.17 & 0.36 &  9 & 10.000 & 260.6 & 59.40 & 59.89 & -15.4167 & 28.2833\\\\\n",
       "\t30681 & 0.0145 & 0.20 & 85.22 & 62.64 & 63.13 & 57.02 & 0.56 & 1011.9 &  5.55 & 12.74 & 0.58 & 11 & 10.000 & 254.6 & 65.20 & 65.69 & -15.4167 & 28.2833\\\\\n",
       "\t30682 & 0.0139 & 0.26 & 84.07 & 63.78 & 64.27 & 59.55 & 0.63 & 1011.9 &  4.70 & 11.62 & 0.45 & 10 & 10.000 & 253.2 & 62.64 & 63.13 & -15.4167 & 28.2833\\\\\n",
       "\t30683 & 0.0082 & 0.17 & 85.25 & 64.75 & 65.24 & 57.86 & 0.58 & 1012.0 &  6.41 & 17.78 & 0.22 & 11 & 10.000 & 255.6 & 63.78 & 64.27 & -15.4167 & 28.2833\\\\\n",
       "\t30684 & 0.0016 & 0.08 & 83.88 & 64.88 & 65.37 & 56.82 & 0.56 & 1012.1 &  8.41 & 24.60 & 0.15 &  9 & 10.000 & 253.5 & 64.75 & 65.24 & -15.4167 & 28.2833\\\\\n",
       "\t30685 & 0.0004 & 0.06 & 80.93 & 62.31 & 62.80 & 57.30 & 0.62 & 1015.5 & 10.94 & 30.26 & 0.25 &  8 & 10.000 & 254.3 & 64.88 & 65.37 & -15.4167 & 28.2833\\\\\n",
       "\t30688 & 0.0003 & 0.04 & 80.26 & 55.66 & 56.15 & 49.03 & 0.55 & 1015.2 &  5.48 & 14.26 & 0.22 & 11 & 10.000 & 257.0 & 54.93 & 55.42 & -15.4167 & 28.2833\\\\\n",
       "\\end{tabular}\n"
      ],
      "text/markdown": [
       "\n",
       "A data.frame: 24552 × 18\n",
       "\n",
       "| <!--/--> | precipIntensityMax &lt;dbl&gt; | precipProbability &lt;dbl&gt; | temperatureHigh &lt;dbl&gt; | temperatureLow &lt;dbl&gt; | apparentTemperatureLow &lt;dbl&gt; | dewPoint &lt;dbl&gt; | humidity &lt;dbl&gt; | pressure &lt;dbl&gt; | windSpeed &lt;dbl&gt; | windGust &lt;dbl&gt; | cloudCover &lt;dbl&gt; | uvIndex &lt;int&gt; | visibility &lt;dbl&gt; | ozone &lt;dbl&gt; | temperatureMin &lt;dbl&gt; | apparentTemperatureMin &lt;dbl&gt; | Lat &lt;dbl&gt; | Long &lt;dbl&gt; |\n",
       "|---|---|---|---|---|---|---|---|---|---|---|---|---|---|---|---|---|---|---|\n",
       "| 1 | 0.1515 | 0.71 | 48.36 | 32.13 | 29.04 | 23.88 | 0.60 | 1019.1 | 2.56 |  6.60 | 0.99 | 2 |  5.534 | 372.6 | 32.96 | 30.51 | 33 | 65 |\n",
       "| 2 | 0.0985 | 0.95 | 40.42 | 28.90 | 26.27 | 33.61 | 0.90 | 1021.2 | 2.06 |  7.08 | 0.99 | 2 |  1.192 | 330.2 | 32.33 | 29.84 | 33 | 65 |\n",
       "| 6 | 0.0442 | 0.91 | 44.54 | 28.10 | 22.90 | 34.56 | 0.85 | 1016.7 | 2.60 |  7.68 | 0.74 | 3 |  5.383 | 323.1 | 34.89 | 32.83 | 33 | 65 |\n",
       "| 8 | 0.0002 | 0.03 | 44.69 | 26.65 | 21.20 | 10.64 | 0.41 | 1025.3 | 5.06 | 13.91 | 0.00 | 3 | 10.000 | 319.7 | 23.66 | 15.87 | 33 | 65 |\n",
       "| 9 | 0.0001 | 0.01 | 48.08 | 24.53 | 18.64 |  6.56 | 0.31 | 1023.1 | 3.56 |  7.66 | 0.01 | 3 | 10.000 | 322.0 | 26.65 | 21.20 | 33 | 65 |\n",
       "| 10 | 0.0003 | 0.02 | 45.21 | 30.78 | 26.53 |  7.94 | 0.34 | 1023.4 | 3.79 |  8.06 | 0.39 | 3 | 10.000 | 317.2 | 24.53 | 18.64 | 33 | 65 |\n",
       "| 11 | 0.0340 | 0.75 | 40.02 | 31.64 | 30.79 | 27.14 | 0.76 | 1019.9 | 2.80 |  7.88 | 1.00 | 2 |  3.269 | 313.1 | 30.78 | 26.53 | 33 | 65 |\n",
       "| 12 | 0.0954 | 0.88 | 37.52 | 25.23 | 24.23 | 30.29 | 0.89 | 1013.7 | 2.76 |  7.99 | 0.99 | 2 |  0.405 | 320.7 | 28.38 | 27.19 | 33 | 65 |\n",
       "| 13 | 0.0065 | 0.34 | 34.74 | 20.15 | 14.37 | 22.14 | 0.78 | 1019.4 | 2.76 |  6.54 | 0.76 | 3 |  5.515 | 336.9 | 22.92 | 17.48 | 33 | 65 |\n",
       "| 14 | 0.0000 | 0.00 | 35.45 | 23.12 | 16.54 | 14.70 | 0.60 | 1022.7 | 2.96 |  6.88 | 0.91 | 2 | 10.000 | 351.8 | 20.15 | 14.37 | 33 | 65 |\n",
       "| 16 | 0.0002 | 0.03 | 39.47 | 13.98 |  6.79 | 12.64 | 0.51 | 1026.9 | 4.19 |  9.35 | 0.46 | 3 | 10.000 | 329.2 | 22.36 | 15.57 | 33 | 65 |\n",
       "| 17 | 0.0004 | 0.04 | 36.85 | 21.40 | 16.06 | 10.69 | 0.55 | 1027.7 | 3.27 |  7.96 | 0.03 | 4 | 10.000 | 312.9 | 13.98 |  6.79 | 33 | 65 |\n",
       "| 18 | 0.0002 | 0.03 | 41.74 | 28.36 | 23.46 | 10.74 | 0.44 | 1027.1 | 3.09 |  7.97 | 0.16 | 4 | 10.000 | 301.9 | 21.40 | 16.06 | 33 | 65 |\n",
       "| 19 | 0.0084 | 0.22 | 44.11 | 29.77 | 26.09 | 20.63 | 0.59 | 1022.7 | 3.57 |  7.95 | 0.78 | 3 |  8.355 | 303.6 | 28.47 | 23.98 | 33 | 65 |\n",
       "| 20 | 0.0059 | 0.24 | 41.28 | 30.25 | 28.41 | 26.46 | 0.74 | 1019.7 | 2.86 |  6.64 | 0.82 | 3 |  9.466 | 314.5 | 29.77 | 26.09 | 33 | 65 |\n",
       "| 23 | 0.0279 | 0.41 | 44.49 | 33.14 | 32.79 | 24.17 | 0.64 | 1025.7 | 3.65 |  8.57 | 0.69 | 3 |  8.348 | 300.5 | 28.13 | 22.81 | 33 | 65 |\n",
       "| 24 | 0.1092 | 0.74 | 41.56 | 29.60 | 23.91 | 32.50 | 0.86 | 1019.7 | 2.30 |  7.06 | 0.95 | 3 |  1.831 | 294.5 | 32.95 | 32.04 | 33 | 65 |\n",
       "| 25 | 0.0018 | 0.11 | 43.36 | 23.61 | 17.26 | 27.49 | 0.73 | 1021.8 | 3.90 |  9.42 | 0.12 | 4 | 10.000 | 302.2 | 27.93 | 22.85 | 33 | 65 |\n",
       "| 28 | 0.0000 | 0.00 | 43.57 | 18.55 | 10.89 | 12.41 | 0.50 | 1021.6 | 5.27 | 11.93 | 0.00 | 4 | 10.000 | 315.0 | 18.89 | 10.25 | 33 | 65 |\n",
       "| 29 | 0.0003 | 0.03 | 42.89 | 21.53 | 15.11 |  6.67 | 0.40 | 1025.1 | 3.86 | 10.61 | 0.00 | 4 | 10.000 | 308.9 | 18.55 | 10.89 | 33 | 65 |\n",
       "| 30 | 0.0003 | 0.02 | 45.14 | 24.28 | 19.43 |  9.93 | 0.42 | 1024.2 | 3.91 |  8.82 | 0.12 | 4 | 10.000 | 316.8 | 21.53 | 15.11 | 33 | 65 |\n",
       "| 31 | 0.0002 | 0.04 | 43.93 | 23.94 | 17.63 | 16.01 | 0.52 | 1022.0 | 3.33 |  7.48 | 0.45 | 4 | 10.000 | 345.2 | 24.28 | 19.43 | 33 | 65 |\n",
       "| 33 | 0.0016 | 0.04 | 48.22 | 31.77 | 30.84 | 19.20 | 0.52 | 1022.4 | 3.97 |  9.63 | 0.05 | 4 | 10.000 | 327.9 | 24.89 | 18.62 | 33 | 65 |\n",
       "| 34 | 0.0762 | 0.84 | 41.47 | 19.35 | 11.60 | 30.04 | 0.83 | 1020.0 | 2.26 |  8.12 | 0.96 | 3 |  3.493 | 340.5 | 27.75 | 23.34 | 33 | 65 |\n",
       "| 35 | 0.0003 | 0.05 | 42.53 | 22.44 | 15.79 | 15.22 | 0.56 | 1024.4 | 4.44 | 10.38 | 0.17 | 5 | 10.000 | 309.9 | 19.35 | 11.60 | 33 | 65 |\n",
       "| 36 | 0.0003 | 0.04 | 46.06 | 24.43 | 17.24 | 14.66 | 0.49 | 1024.2 | 3.91 |  9.25 | 0.32 | 3 | 10.000 | 317.6 | 22.44 | 15.79 | 33 | 65 |\n",
       "| 38 | 0.0003 | 0.03 | 49.62 | 29.76 | 24.96 | 12.28 | 0.37 | 1025.7 | 3.89 |  9.21 | 0.00 | 5 | 10.000 | 292.8 | 26.58 | 20.37 | 33 | 65 |\n",
       "| 39 | 0.0003 | 0.02 | 51.43 | 31.90 | 27.02 | 19.33 | 0.45 | 1024.7 | 3.05 |  7.26 | 0.00 | 5 | 10.000 | 280.5 | 29.76 | 24.96 | 33 | 65 |\n",
       "| 41 | 0.0512 | 0.97 | 39.75 | 38.26 | 35.44 | 32.74 | 0.84 | 1018.8 | 4.06 | 11.63 | 0.88 | 4 |  7.113 | 286.8 | 35.17 | 30.74 | 33 | 65 |\n",
       "| 42 | 0.1087 | 0.99 | 45.37 | 40.31 | 37.61 | 38.02 | 0.88 | 1015.6 | 3.04 | 13.29 | 0.98 | 4 |  7.890 | 299.0 | 38.26 | 38.72 | 33 | 65 |\n",
       "| ⋮ | ⋮ | ⋮ | ⋮ | ⋮ | ⋮ | ⋮ | ⋮ | ⋮ | ⋮ | ⋮ | ⋮ | ⋮ | ⋮ | ⋮ | ⋮ | ⋮ | ⋮ | ⋮ |\n",
       "| 30654 | 0.0063 | 0.26 | 77.13 | 60.11 | 60.92 | 62.21 | 0.79 | 1012.9 |  8.10 | 21.92 | 0.91 |  6 | 10.000 | 262.3 | 62.81 | 63.63 | -15.4167 | 28.2833 |\n",
       "| 30655 | 0.0148 | 0.37 | 78.32 | 59.91 | 60.41 | 61.52 | 0.80 | 1012.6 |  6.75 | 21.45 | 0.80 |  6 |  9.901 | 258.0 | 60.11 | 60.92 | -15.4167 | 28.2833 |\n",
       "| 30656 | 0.0007 | 0.10 | 78.52 | 64.92 | 65.41 | 61.55 | 0.78 | 1012.7 |  7.40 | 25.58 | 0.79 |  7 | 10.000 | 254.9 | 59.91 | 60.41 | -15.4167 | 28.2833 |\n",
       "| 30657 | 0.0157 | 0.40 | 76.45 | 64.24 | 65.02 | 59.95 | 0.74 | 1012.5 |  8.02 | 26.00 | 0.77 |  6 | 10.000 | 251.3 | 64.92 | 65.41 | -15.4167 | 28.2833 |\n",
       "| 30658 | 0.0051 | 0.44 | 77.10 | 63.08 | 63.57 | 62.22 | 0.80 | 1013.5 |  7.78 | 24.30 | 0.89 |  7 | 10.000 | 252.8 | 64.05 | 64.64 | -15.4167 | 28.2833 |\n",
       "| 30659 | 0.0004 | 0.10 | 77.78 | 60.40 | 61.15 | 60.54 | 0.74 | 1015.1 |  7.42 | 23.91 | 0.61 |  6 | 10.000 | 251.3 | 63.08 | 63.57 | -15.4167 | 28.2833 |\n",
       "| 30660 | 0.0010 | 0.06 | 80.78 | 61.76 | 62.43 | 60.94 | 0.73 | 1013.3 |  6.42 | 17.89 | 0.44 | 10 | 10.000 | 251.9 | 60.40 | 61.15 | -15.4167 | 28.2833 |\n",
       "| 30662 | 0.0172 | 0.32 | 83.14 | 63.57 | 64.34 | 60.70 | 0.68 | 1008.6 |  4.50 | 11.55 | 0.73 |  8 |  9.610 | 254.6 | 62.19 | 62.68 | -15.4167 | 28.2833 |\n",
       "| 30663 | 0.1201 | 0.69 | 76.78 | 61.60 | 62.30 | 62.87 | 0.84 | 1011.7 |  3.64 | 10.58 | 0.92 |  6 |  9.797 | 259.1 | 63.43 | 63.96 | -15.4167 | 28.2833 |\n",
       "| 30665 | 0.0006 | 0.04 | 79.68 | 60.71 | 61.20 | 59.33 | 0.70 | 1013.3 |  7.81 | 23.98 | 0.35 |  9 | 10.000 | 259.8 | 61.55 | 62.04 | -15.4167 | 28.2833 |\n",
       "| 30666 | 0.0044 | 0.13 | 80.51 | 61.28 | 61.77 | 59.14 | 0.68 | 1011.8 |  7.26 | 20.03 | 0.56 | 11 | 10.000 | 258.1 | 60.71 | 61.20 | -15.4167 | 28.2833 |\n",
       "| 30667 | 0.0003 | 0.07 | 81.94 | 60.68 | 61.17 | 58.38 | 0.65 | 1012.2 |  7.01 | 20.86 | 0.55 |  8 | 10.000 | 260.3 | 61.28 | 61.77 | -15.4167 | 28.2833 |\n",
       "| 30668 | 0.0004 | 0.05 | 83.89 | 63.45 | 63.94 | 57.23 | 0.62 | 1012.6 |  6.28 | 14.02 | 0.02 | 13 | 10.000 | 258.2 | 60.68 | 61.17 | -15.4167 | 28.2833 |\n",
       "| 30669 | 0.0004 | 0.04 | 79.24 | 60.77 | 61.26 | 56.73 | 0.63 | 1013.3 | 10.87 | 29.84 | 0.31 |  8 | 10.000 | 257.6 | 63.45 | 63.94 | -15.4167 | 28.2833 |\n",
       "| 30670 | 0.0024 | 0.07 | 77.39 | 59.92 | 60.41 | 58.00 | 0.71 | 1014.7 |  9.33 | 29.17 | 0.51 |  7 | 10.000 | 254.9 | 60.77 | 61.26 | -15.4167 | 28.2833 |\n",
       "| 30671 | 0.0006 | 0.09 | 79.34 | 58.28 | 58.77 | 56.79 | 0.68 | 1014.8 |  6.92 | 19.79 | 0.33 | 10 | 10.000 | 258.5 | 59.92 | 60.41 | -15.4167 | 28.2833 |\n",
       "| 30672 | 0.0002 | 0.02 | 81.53 | 62.94 | 63.43 | 54.86 | 0.61 | 1014.1 |  4.68 | 12.25 | 0.24 |  9 | 10.000 | 259.2 | 58.28 | 58.77 | -15.4167 | 28.2833 |\n",
       "| 30673 | 0.0003 | 0.04 | 83.12 | 63.82 | 64.31 | 55.27 | 0.55 | 1012.5 |  3.63 |  7.46 | 0.42 | 10 | 10.000 | 260.8 | 62.94 | 63.43 | -15.4167 | 28.2833 |\n",
       "| 30674 | 0.0003 | 0.04 | 84.95 | 62.94 | 63.43 | 56.61 | 0.55 | 1011.7 |  3.56 |  6.76 | 0.56 |  7 | 10.000 | 263.8 | 63.82 | 64.31 | -15.4167 | 28.2833 |\n",
       "| 30675 | 0.0036 | 0.21 | 83.89 | 63.55 | 64.16 | 59.88 | 0.66 | 1012.3 |  6.50 | 24.68 | 0.29 |  7 | 10.000 | 260.1 | 62.94 | 63.43 | -15.4167 | 28.2833 |\n",
       "| 30676 | 0.0051 | 0.31 | 75.28 | 62.37 | 62.87 | 60.49 | 0.75 | 1015.6 | 13.02 | 30.93 | 0.48 |  6 | 10.000 | 256.6 | 63.55 | 64.16 | -15.4167 | 28.2833 |\n",
       "| 30677 | 0.0024 | 0.18 | 74.19 | 60.59 | 61.15 | 59.59 | 0.77 | 1016.3 | 11.78 | 29.46 | 0.57 |  6 | 10.000 | 258.8 | 62.37 | 62.87 | -15.4167 | 28.2833 |\n",
       "| 30678 | 0.0005 | 0.07 | 76.25 | 57.86 | 58.35 | 58.57 | 0.76 | 1015.9 |  8.47 | 26.69 | 0.91 |  6 | 10.000 | 261.4 | 60.59 | 61.15 | -15.4167 | 28.2833 |\n",
       "| 30680 | 0.0003 | 0.07 | 83.90 | 65.20 | 65.69 | 56.50 | 0.61 | 1012.5 |  5.66 | 12.17 | 0.36 |  9 | 10.000 | 260.6 | 59.40 | 59.89 | -15.4167 | 28.2833 |\n",
       "| 30681 | 0.0145 | 0.20 | 85.22 | 62.64 | 63.13 | 57.02 | 0.56 | 1011.9 |  5.55 | 12.74 | 0.58 | 11 | 10.000 | 254.6 | 65.20 | 65.69 | -15.4167 | 28.2833 |\n",
       "| 30682 | 0.0139 | 0.26 | 84.07 | 63.78 | 64.27 | 59.55 | 0.63 | 1011.9 |  4.70 | 11.62 | 0.45 | 10 | 10.000 | 253.2 | 62.64 | 63.13 | -15.4167 | 28.2833 |\n",
       "| 30683 | 0.0082 | 0.17 | 85.25 | 64.75 | 65.24 | 57.86 | 0.58 | 1012.0 |  6.41 | 17.78 | 0.22 | 11 | 10.000 | 255.6 | 63.78 | 64.27 | -15.4167 | 28.2833 |\n",
       "| 30684 | 0.0016 | 0.08 | 83.88 | 64.88 | 65.37 | 56.82 | 0.56 | 1012.1 |  8.41 | 24.60 | 0.15 |  9 | 10.000 | 253.5 | 64.75 | 65.24 | -15.4167 | 28.2833 |\n",
       "| 30685 | 0.0004 | 0.06 | 80.93 | 62.31 | 62.80 | 57.30 | 0.62 | 1015.5 | 10.94 | 30.26 | 0.25 |  8 | 10.000 | 254.3 | 64.88 | 65.37 | -15.4167 | 28.2833 |\n",
       "| 30688 | 0.0003 | 0.04 | 80.26 | 55.66 | 56.15 | 49.03 | 0.55 | 1015.2 |  5.48 | 14.26 | 0.22 | 11 | 10.000 | 257.0 | 54.93 | 55.42 | -15.4167 | 28.2833 |\n",
       "\n"
      ],
      "text/plain": [
       "      precipIntensityMax precipProbability temperatureHigh temperatureLow\n",
       "1     0.1515             0.71              48.36           32.13         \n",
       "2     0.0985             0.95              40.42           28.90         \n",
       "6     0.0442             0.91              44.54           28.10         \n",
       "8     0.0002             0.03              44.69           26.65         \n",
       "9     0.0001             0.01              48.08           24.53         \n",
       "10    0.0003             0.02              45.21           30.78         \n",
       "11    0.0340             0.75              40.02           31.64         \n",
       "12    0.0954             0.88              37.52           25.23         \n",
       "13    0.0065             0.34              34.74           20.15         \n",
       "14    0.0000             0.00              35.45           23.12         \n",
       "16    0.0002             0.03              39.47           13.98         \n",
       "17    0.0004             0.04              36.85           21.40         \n",
       "18    0.0002             0.03              41.74           28.36         \n",
       "19    0.0084             0.22              44.11           29.77         \n",
       "20    0.0059             0.24              41.28           30.25         \n",
       "23    0.0279             0.41              44.49           33.14         \n",
       "24    0.1092             0.74              41.56           29.60         \n",
       "25    0.0018             0.11              43.36           23.61         \n",
       "28    0.0000             0.00              43.57           18.55         \n",
       "29    0.0003             0.03              42.89           21.53         \n",
       "30    0.0003             0.02              45.14           24.28         \n",
       "31    0.0002             0.04              43.93           23.94         \n",
       "33    0.0016             0.04              48.22           31.77         \n",
       "34    0.0762             0.84              41.47           19.35         \n",
       "35    0.0003             0.05              42.53           22.44         \n",
       "36    0.0003             0.04              46.06           24.43         \n",
       "38    0.0003             0.03              49.62           29.76         \n",
       "39    0.0003             0.02              51.43           31.90         \n",
       "41    0.0512             0.97              39.75           38.26         \n",
       "42    0.1087             0.99              45.37           40.31         \n",
       "<U+22EE>     <U+22EE>           <U+22EE>          <U+22EE>        <U+22EE>      \n",
       "30654 0.0063             0.26              77.13           60.11         \n",
       "30655 0.0148             0.37              78.32           59.91         \n",
       "30656 0.0007             0.10              78.52           64.92         \n",
       "30657 0.0157             0.40              76.45           64.24         \n",
       "30658 0.0051             0.44              77.10           63.08         \n",
       "30659 0.0004             0.10              77.78           60.40         \n",
       "30660 0.0010             0.06              80.78           61.76         \n",
       "30662 0.0172             0.32              83.14           63.57         \n",
       "30663 0.1201             0.69              76.78           61.60         \n",
       "30665 0.0006             0.04              79.68           60.71         \n",
       "30666 0.0044             0.13              80.51           61.28         \n",
       "30667 0.0003             0.07              81.94           60.68         \n",
       "30668 0.0004             0.05              83.89           63.45         \n",
       "30669 0.0004             0.04              79.24           60.77         \n",
       "30670 0.0024             0.07              77.39           59.92         \n",
       "30671 0.0006             0.09              79.34           58.28         \n",
       "30672 0.0002             0.02              81.53           62.94         \n",
       "30673 0.0003             0.04              83.12           63.82         \n",
       "30674 0.0003             0.04              84.95           62.94         \n",
       "30675 0.0036             0.21              83.89           63.55         \n",
       "30676 0.0051             0.31              75.28           62.37         \n",
       "30677 0.0024             0.18              74.19           60.59         \n",
       "30678 0.0005             0.07              76.25           57.86         \n",
       "30680 0.0003             0.07              83.90           65.20         \n",
       "30681 0.0145             0.20              85.22           62.64         \n",
       "30682 0.0139             0.26              84.07           63.78         \n",
       "30683 0.0082             0.17              85.25           64.75         \n",
       "30684 0.0016             0.08              83.88           64.88         \n",
       "30685 0.0004             0.06              80.93           62.31         \n",
       "30688 0.0003             0.04              80.26           55.66         \n",
       "      apparentTemperatureLow dewPoint humidity pressure windSpeed windGust\n",
       "1     29.04                  23.88    0.60     1019.1   2.56       6.60   \n",
       "2     26.27                  33.61    0.90     1021.2   2.06       7.08   \n",
       "6     22.90                  34.56    0.85     1016.7   2.60       7.68   \n",
       "8     21.20                  10.64    0.41     1025.3   5.06      13.91   \n",
       "9     18.64                   6.56    0.31     1023.1   3.56       7.66   \n",
       "10    26.53                   7.94    0.34     1023.4   3.79       8.06   \n",
       "11    30.79                  27.14    0.76     1019.9   2.80       7.88   \n",
       "12    24.23                  30.29    0.89     1013.7   2.76       7.99   \n",
       "13    14.37                  22.14    0.78     1019.4   2.76       6.54   \n",
       "14    16.54                  14.70    0.60     1022.7   2.96       6.88   \n",
       "16     6.79                  12.64    0.51     1026.9   4.19       9.35   \n",
       "17    16.06                  10.69    0.55     1027.7   3.27       7.96   \n",
       "18    23.46                  10.74    0.44     1027.1   3.09       7.97   \n",
       "19    26.09                  20.63    0.59     1022.7   3.57       7.95   \n",
       "20    28.41                  26.46    0.74     1019.7   2.86       6.64   \n",
       "23    32.79                  24.17    0.64     1025.7   3.65       8.57   \n",
       "24    23.91                  32.50    0.86     1019.7   2.30       7.06   \n",
       "25    17.26                  27.49    0.73     1021.8   3.90       9.42   \n",
       "28    10.89                  12.41    0.50     1021.6   5.27      11.93   \n",
       "29    15.11                   6.67    0.40     1025.1   3.86      10.61   \n",
       "30    19.43                   9.93    0.42     1024.2   3.91       8.82   \n",
       "31    17.63                  16.01    0.52     1022.0   3.33       7.48   \n",
       "33    30.84                  19.20    0.52     1022.4   3.97       9.63   \n",
       "34    11.60                  30.04    0.83     1020.0   2.26       8.12   \n",
       "35    15.79                  15.22    0.56     1024.4   4.44      10.38   \n",
       "36    17.24                  14.66    0.49     1024.2   3.91       9.25   \n",
       "38    24.96                  12.28    0.37     1025.7   3.89       9.21   \n",
       "39    27.02                  19.33    0.45     1024.7   3.05       7.26   \n",
       "41    35.44                  32.74    0.84     1018.8   4.06      11.63   \n",
       "42    37.61                  38.02    0.88     1015.6   3.04      13.29   \n",
       "<U+22EE>     <U+22EE>               <U+22EE> <U+22EE> <U+22EE> <U+22EE>  <U+22EE>\n",
       "30654 60.92                  62.21    0.79     1012.9    8.10     21.92   \n",
       "30655 60.41                  61.52    0.80     1012.6    6.75     21.45   \n",
       "30656 65.41                  61.55    0.78     1012.7    7.40     25.58   \n",
       "30657 65.02                  59.95    0.74     1012.5    8.02     26.00   \n",
       "30658 63.57                  62.22    0.80     1013.5    7.78     24.30   \n",
       "30659 61.15                  60.54    0.74     1015.1    7.42     23.91   \n",
       "30660 62.43                  60.94    0.73     1013.3    6.42     17.89   \n",
       "30662 64.34                  60.70    0.68     1008.6    4.50     11.55   \n",
       "30663 62.30                  62.87    0.84     1011.7    3.64     10.58   \n",
       "30665 61.20                  59.33    0.70     1013.3    7.81     23.98   \n",
       "30666 61.77                  59.14    0.68     1011.8    7.26     20.03   \n",
       "30667 61.17                  58.38    0.65     1012.2    7.01     20.86   \n",
       "30668 63.94                  57.23    0.62     1012.6    6.28     14.02   \n",
       "30669 61.26                  56.73    0.63     1013.3   10.87     29.84   \n",
       "30670 60.41                  58.00    0.71     1014.7    9.33     29.17   \n",
       "30671 58.77                  56.79    0.68     1014.8    6.92     19.79   \n",
       "30672 63.43                  54.86    0.61     1014.1    4.68     12.25   \n",
       "30673 64.31                  55.27    0.55     1012.5    3.63      7.46   \n",
       "30674 63.43                  56.61    0.55     1011.7    3.56      6.76   \n",
       "30675 64.16                  59.88    0.66     1012.3    6.50     24.68   \n",
       "30676 62.87                  60.49    0.75     1015.6   13.02     30.93   \n",
       "30677 61.15                  59.59    0.77     1016.3   11.78     29.46   \n",
       "30678 58.35                  58.57    0.76     1015.9    8.47     26.69   \n",
       "30680 65.69                  56.50    0.61     1012.5    5.66     12.17   \n",
       "30681 63.13                  57.02    0.56     1011.9    5.55     12.74   \n",
       "30682 64.27                  59.55    0.63     1011.9    4.70     11.62   \n",
       "30683 65.24                  57.86    0.58     1012.0    6.41     17.78   \n",
       "30684 65.37                  56.82    0.56     1012.1    8.41     24.60   \n",
       "30685 62.80                  57.30    0.62     1015.5   10.94     30.26   \n",
       "30688 56.15                  49.03    0.55     1015.2    5.48     14.26   \n",
       "      cloudCover uvIndex visibility ozone temperatureMin apparentTemperatureMin\n",
       "1     0.99       2        5.534     372.6 32.96          30.51                 \n",
       "2     0.99       2        1.192     330.2 32.33          29.84                 \n",
       "6     0.74       3        5.383     323.1 34.89          32.83                 \n",
       "8     0.00       3       10.000     319.7 23.66          15.87                 \n",
       "9     0.01       3       10.000     322.0 26.65          21.20                 \n",
       "10    0.39       3       10.000     317.2 24.53          18.64                 \n",
       "11    1.00       2        3.269     313.1 30.78          26.53                 \n",
       "12    0.99       2        0.405     320.7 28.38          27.19                 \n",
       "13    0.76       3        5.515     336.9 22.92          17.48                 \n",
       "14    0.91       2       10.000     351.8 20.15          14.37                 \n",
       "16    0.46       3       10.000     329.2 22.36          15.57                 \n",
       "17    0.03       4       10.000     312.9 13.98           6.79                 \n",
       "18    0.16       4       10.000     301.9 21.40          16.06                 \n",
       "19    0.78       3        8.355     303.6 28.47          23.98                 \n",
       "20    0.82       3        9.466     314.5 29.77          26.09                 \n",
       "23    0.69       3        8.348     300.5 28.13          22.81                 \n",
       "24    0.95       3        1.831     294.5 32.95          32.04                 \n",
       "25    0.12       4       10.000     302.2 27.93          22.85                 \n",
       "28    0.00       4       10.000     315.0 18.89          10.25                 \n",
       "29    0.00       4       10.000     308.9 18.55          10.89                 \n",
       "30    0.12       4       10.000     316.8 21.53          15.11                 \n",
       "31    0.45       4       10.000     345.2 24.28          19.43                 \n",
       "33    0.05       4       10.000     327.9 24.89          18.62                 \n",
       "34    0.96       3        3.493     340.5 27.75          23.34                 \n",
       "35    0.17       5       10.000     309.9 19.35          11.60                 \n",
       "36    0.32       3       10.000     317.6 22.44          15.79                 \n",
       "38    0.00       5       10.000     292.8 26.58          20.37                 \n",
       "39    0.00       5       10.000     280.5 29.76          24.96                 \n",
       "41    0.88       4        7.113     286.8 35.17          30.74                 \n",
       "42    0.98       4        7.890     299.0 38.26          38.72                 \n",
       "<U+22EE>     <U+22EE>   <U+22EE> <U+22EE>   <U+22EE> <U+22EE>       <U+22EE>              \n",
       "30654 0.91        6      10.000     262.3 62.81          63.63                 \n",
       "30655 0.80        6       9.901     258.0 60.11          60.92                 \n",
       "30656 0.79        7      10.000     254.9 59.91          60.41                 \n",
       "30657 0.77        6      10.000     251.3 64.92          65.41                 \n",
       "30658 0.89        7      10.000     252.8 64.05          64.64                 \n",
       "30659 0.61        6      10.000     251.3 63.08          63.57                 \n",
       "30660 0.44       10      10.000     251.9 60.40          61.15                 \n",
       "30662 0.73        8       9.610     254.6 62.19          62.68                 \n",
       "30663 0.92        6       9.797     259.1 63.43          63.96                 \n",
       "30665 0.35        9      10.000     259.8 61.55          62.04                 \n",
       "30666 0.56       11      10.000     258.1 60.71          61.20                 \n",
       "30667 0.55        8      10.000     260.3 61.28          61.77                 \n",
       "30668 0.02       13      10.000     258.2 60.68          61.17                 \n",
       "30669 0.31        8      10.000     257.6 63.45          63.94                 \n",
       "30670 0.51        7      10.000     254.9 60.77          61.26                 \n",
       "30671 0.33       10      10.000     258.5 59.92          60.41                 \n",
       "30672 0.24        9      10.000     259.2 58.28          58.77                 \n",
       "30673 0.42       10      10.000     260.8 62.94          63.43                 \n",
       "30674 0.56        7      10.000     263.8 63.82          64.31                 \n",
       "30675 0.29        7      10.000     260.1 62.94          63.43                 \n",
       "30676 0.48        6      10.000     256.6 63.55          64.16                 \n",
       "30677 0.57        6      10.000     258.8 62.37          62.87                 \n",
       "30678 0.91        6      10.000     261.4 60.59          61.15                 \n",
       "30680 0.36        9      10.000     260.6 59.40          59.89                 \n",
       "30681 0.58       11      10.000     254.6 65.20          65.69                 \n",
       "30682 0.45       10      10.000     253.2 62.64          63.13                 \n",
       "30683 0.22       11      10.000     255.6 63.78          64.27                 \n",
       "30684 0.15        9      10.000     253.5 64.75          65.24                 \n",
       "30685 0.25        8      10.000     254.3 64.88          65.37                 \n",
       "30688 0.22       11      10.000     257.0 54.93          55.42                 \n",
       "      Lat      Long   \n",
       "1     33       65     \n",
       "2     33       65     \n",
       "6     33       65     \n",
       "8     33       65     \n",
       "9     33       65     \n",
       "10    33       65     \n",
       "11    33       65     \n",
       "12    33       65     \n",
       "13    33       65     \n",
       "14    33       65     \n",
       "16    33       65     \n",
       "17    33       65     \n",
       "18    33       65     \n",
       "19    33       65     \n",
       "20    33       65     \n",
       "23    33       65     \n",
       "24    33       65     \n",
       "25    33       65     \n",
       "28    33       65     \n",
       "29    33       65     \n",
       "30    33       65     \n",
       "31    33       65     \n",
       "33    33       65     \n",
       "34    33       65     \n",
       "35    33       65     \n",
       "36    33       65     \n",
       "38    33       65     \n",
       "39    33       65     \n",
       "41    33       65     \n",
       "42    33       65     \n",
       "<U+22EE>     <U+22EE> <U+22EE>\n",
       "30654 -15.4167 28.2833\n",
       "30655 -15.4167 28.2833\n",
       "30656 -15.4167 28.2833\n",
       "30657 -15.4167 28.2833\n",
       "30658 -15.4167 28.2833\n",
       "30659 -15.4167 28.2833\n",
       "30660 -15.4167 28.2833\n",
       "30662 -15.4167 28.2833\n",
       "30663 -15.4167 28.2833\n",
       "30665 -15.4167 28.2833\n",
       "30666 -15.4167 28.2833\n",
       "30667 -15.4167 28.2833\n",
       "30668 -15.4167 28.2833\n",
       "30669 -15.4167 28.2833\n",
       "30670 -15.4167 28.2833\n",
       "30671 -15.4167 28.2833\n",
       "30672 -15.4167 28.2833\n",
       "30673 -15.4167 28.2833\n",
       "30674 -15.4167 28.2833\n",
       "30675 -15.4167 28.2833\n",
       "30676 -15.4167 28.2833\n",
       "30677 -15.4167 28.2833\n",
       "30678 -15.4167 28.2833\n",
       "30680 -15.4167 28.2833\n",
       "30681 -15.4167 28.2833\n",
       "30682 -15.4167 28.2833\n",
       "30683 -15.4167 28.2833\n",
       "30684 -15.4167 28.2833\n",
       "30685 -15.4167 28.2833\n",
       "30688 -15.4167 28.2833"
      ]
     },
     "metadata": {},
     "output_type": "display_data"
    }
   ],
   "source": [
    "train_x"
   ]
  },
  {
   "cell_type": "code",
   "execution_count": 182,
   "id": "2dfd1c1b",
   "metadata": {
    "vscode": {
     "languageId": "r"
    }
   },
   "outputs": [
    {
     "data": {
      "text/html": [
       "156.690778286407"
      ],
      "text/latex": [
       "156.690778286407"
      ],
      "text/markdown": [
       "156.690778286407"
      ],
      "text/plain": [
       "[1] 156.6908"
      ]
     },
     "metadata": {},
     "output_type": "display_data"
    }
   ],
   "source": [
    "(nrow(train_x))^(1/2)"
   ]
  },
  {
   "cell_type": "code",
   "execution_count": null,
   "id": "9b13dd97",
   "metadata": {
    "vscode": {
     "languageId": "r"
    }
   },
   "outputs": [],
   "source": [
    "# Further we, to choose the optimal number of K, we compare the RMSE for different K-values"
   ]
  },
  {
   "cell_type": "code",
   "execution_count": 202,
   "id": "c42d935b",
   "metadata": {
    "vscode": {
     "languageId": "r"
    }
   },
   "outputs": [],
   "source": [
    "knnfunc = function(k_no){\n",
    "    knnmodel = knnreg(train_x, train_y, k_no)\n",
    "    pred = predict(knnmodel, data.frame(test_x))\n",
    "    return (pred)\n",
    "}"
   ]
  },
  {
   "cell_type": "code",
   "execution_count": 203,
   "id": "80bd7817",
   "metadata": {
    "vscode": {
     "languageId": "r"
    }
   },
   "outputs": [],
   "source": [
    "k_no = c(1,2,3,4,5,6,7,8,9,10,100,200,156)"
   ]
  },
  {
   "cell_type": "code",
   "execution_count": 204,
   "id": "3bbc984d",
   "metadata": {
    "vscode": {
     "languageId": "r"
    }
   },
   "outputs": [],
   "source": [
    "output = sapply(k_no, knnfunc)"
   ]
  },
  {
   "cell_type": "code",
   "execution_count": 205,
   "id": "4c3ba1a6",
   "metadata": {
    "vscode": {
     "languageId": "r"
    }
   },
   "outputs": [],
   "source": [
    "x = c(1:length(k_no))"
   ]
  },
  {
   "cell_type": "code",
   "execution_count": 112,
   "id": "607ae254",
   "metadata": {
    "vscode": {
     "languageId": "r"
    }
   },
   "outputs": [
    {
     "data": {
      "text/plain": [
       "        Length Class  Mode   \n",
       "learn   2      -none- list   \n",
       "k       1      -none- numeric\n",
       "theDots 0      -none- list   "
      ]
     },
     "metadata": {},
     "output_type": "display_data"
    }
   ],
   "source": [
    "summary(knnmodel_2)"
   ]
  },
  {
   "cell_type": "code",
   "execution_count": 113,
   "id": "f17c7c06",
   "metadata": {
    "vscode": {
     "languageId": "r"
    }
   },
   "outputs": [],
   "source": [
    "pred_y_1 = predict(knnmodel_1, data.frame(test_x))"
   ]
  },
  {
   "cell_type": "code",
   "execution_count": 209,
   "id": "c4a90efe",
   "metadata": {
    "vscode": {
     "languageId": "r"
    }
   },
   "outputs": [],
   "source": [
    "evaluator = function(x){\n",
    "    rmse = caret::RMSE(test_y, output[,x])\n",
    "    return (cat(\" RMSE: \",rmse))\n",
    "}"
   ]
  },
  {
   "cell_type": "code",
   "execution_count": null,
   "id": "dd5e89b8",
   "metadata": {
    "vscode": {
     "languageId": "r"
    }
   },
   "outputs": [],
   "source": [
    "# EValuating the model using it RMSE for different values of K"
   ]
  },
  {
   "cell_type": "code",
   "execution_count": 210,
   "id": "d483b357",
   "metadata": {
    "vscode": {
     "languageId": "r"
    }
   },
   "outputs": [
    {
     "name": "stdout",
     "output_type": "stream",
     "text": [
      " RMSE:  0.0096288 RMSE:  0.008595631 RMSE:  0.008309501 RMSE:  0.008287401 RMSE:  0.00820521 RMSE:  0.008190637 RMSE:  0.008239507 RMSE:  0.008292771 RMSE:  0.008323426 RMSE:  0.008359248 RMSE:  0.009184396 RMSE:  0.009529889 RMSE:  0.009404239"
     ]
    }
   ],
   "source": [
    "op = sapply(x, evaluator)"
   ]
  },
  {
   "cell_type": "code",
   "execution_count": 156,
   "id": "e31135b6",
   "metadata": {
    "vscode": {
     "languageId": "r"
    }
   },
   "outputs": [],
   "source": [
    "K_values = c(1,2,3,4,5,6,7,8,9,10)\n",
    "RMSE_values = c(0.0096288, 0.008595631, 0.008309501, 0.008287401, 0.00820521, 0.008190637, 0.008239507, 0.008292771, 0.008323426, \n",
    "               0.008359248)"
   ]
  },
  {
   "cell_type": "code",
   "execution_count": 157,
   "id": "c082eeaa",
   "metadata": {
    "vscode": {
     "languageId": "r"
    }
   },
   "outputs": [],
   "source": [
    "df_k = data.frame(K_values, RMSE_values)"
   ]
  },
  {
   "cell_type": "code",
   "execution_count": 159,
   "id": "bcc0820f",
   "metadata": {
    "vscode": {
     "languageId": "r"
    }
   },
   "outputs": [
    {
     "data": {
      "text/html": [
       "<table class=\"dataframe\">\n",
       "<caption>A data.frame: 10 × 2</caption>\n",
       "<thead>\n",
       "\t<tr><th scope=col>K_values</th><th scope=col>RMSE_values</th></tr>\n",
       "\t<tr><th scope=col>&lt;dbl&gt;</th><th scope=col>&lt;dbl&gt;</th></tr>\n",
       "</thead>\n",
       "<tbody>\n",
       "\t<tr><td> 1</td><td>0.009628800</td></tr>\n",
       "\t<tr><td> 2</td><td>0.008595631</td></tr>\n",
       "\t<tr><td> 3</td><td>0.008309501</td></tr>\n",
       "\t<tr><td> 4</td><td>0.008287401</td></tr>\n",
       "\t<tr><td> 5</td><td>0.008205210</td></tr>\n",
       "\t<tr><td> 6</td><td>0.008190637</td></tr>\n",
       "\t<tr><td> 7</td><td>0.008239507</td></tr>\n",
       "\t<tr><td> 8</td><td>0.008292771</td></tr>\n",
       "\t<tr><td> 9</td><td>0.008323426</td></tr>\n",
       "\t<tr><td>10</td><td>0.008359248</td></tr>\n",
       "</tbody>\n",
       "</table>\n"
      ],
      "text/latex": [
       "A data.frame: 10 × 2\n",
       "\\begin{tabular}{ll}\n",
       " K\\_values & RMSE\\_values\\\\\n",
       " <dbl> & <dbl>\\\\\n",
       "\\hline\n",
       "\t  1 & 0.009628800\\\\\n",
       "\t  2 & 0.008595631\\\\\n",
       "\t  3 & 0.008309501\\\\\n",
       "\t  4 & 0.008287401\\\\\n",
       "\t  5 & 0.008205210\\\\\n",
       "\t  6 & 0.008190637\\\\\n",
       "\t  7 & 0.008239507\\\\\n",
       "\t  8 & 0.008292771\\\\\n",
       "\t  9 & 0.008323426\\\\\n",
       "\t 10 & 0.008359248\\\\\n",
       "\\end{tabular}\n"
      ],
      "text/markdown": [
       "\n",
       "A data.frame: 10 × 2\n",
       "\n",
       "| K_values &lt;dbl&gt; | RMSE_values &lt;dbl&gt; |\n",
       "|---|---|\n",
       "|  1 | 0.009628800 |\n",
       "|  2 | 0.008595631 |\n",
       "|  3 | 0.008309501 |\n",
       "|  4 | 0.008287401 |\n",
       "|  5 | 0.008205210 |\n",
       "|  6 | 0.008190637 |\n",
       "|  7 | 0.008239507 |\n",
       "|  8 | 0.008292771 |\n",
       "|  9 | 0.008323426 |\n",
       "| 10 | 0.008359248 |\n",
       "\n"
      ],
      "text/plain": [
       "   K_values RMSE_values\n",
       "1   1       0.009628800\n",
       "2   2       0.008595631\n",
       "3   3       0.008309501\n",
       "4   4       0.008287401\n",
       "5   5       0.008205210\n",
       "6   6       0.008190637\n",
       "7   7       0.008239507\n",
       "8   8       0.008292771\n",
       "9   9       0.008323426\n",
       "10 10       0.008359248"
      ]
     },
     "metadata": {},
     "output_type": "display_data"
    }
   ],
   "source": [
    "df_k"
   ]
  },
  {
   "cell_type": "code",
   "execution_count": null,
   "id": "b5b27579",
   "metadata": {
    "vscode": {
     "languageId": "r"
    }
   },
   "outputs": [],
   "source": [
    "# RMSE for different K-values, shows that K = 6, has least RMSE"
   ]
  },
  {
   "cell_type": "code",
   "execution_count": 177,
   "id": "b27fd234",
   "metadata": {
    "vscode": {
     "languageId": "r"
    }
   },
   "outputs": [
    {
     "data": {
      "image/png": "[encoded data removed]",
      "text/plain": [
       "plot without title"
      ]
     },
     "metadata": {
      "image/png": {
       "height": 420,
       "width": 420
      }
     },
     "output_type": "display_data"
    }
   ],
   "source": [
    "plot(df_k, col = 'red', pch = 19)"
   ]
  },
  {
   "cell_type": "code",
   "execution_count": 117,
   "id": "afd398e4",
   "metadata": {
    "vscode": {
     "languageId": "r"
    }
   },
   "outputs": [],
   "source": [
    "# As lower the RMSE, better is the model, we can see k = 6, has lowest RMSE value, thus we choose k=6"
   ]
  },
  {
   "cell_type": "code",
   "execution_count": 118,
   "id": "14721eea",
   "metadata": {
    "vscode": {
     "languageId": "r"
    }
   },
   "outputs": [],
   "source": [
    "# This is the final model."
   ]
  },
  {
   "cell_type": "code",
   "execution_count": 183,
   "id": "2ffc6e94",
   "metadata": {
    "vscode": {
     "languageId": "r"
    }
   },
   "outputs": [],
   "source": [
    "knnmodel = knnreg(x = train_x, y = train_y, k = 6)\n",
    "    pred = predict(knnmodel, data.frame(test_x))"
   ]
  },
  {
   "cell_type": "code",
   "execution_count": 187,
   "id": "05b328c4",
   "metadata": {
    "vscode": {
     "languageId": "r"
    }
   },
   "outputs": [
    {
     "name": "stdout",
     "output_type": "stream",
     "text": [
      "R-sqaured:  0.4313803 MSE:  6.708653e-05 MAE:  0.003512344  RMSE:  0.008190637"
     ]
    }
   ],
   "source": [
    "mse = mean((test_y - pred)^2)\n",
    "mae = caret::MAE(pred, test_y)\n",
    "rmse = caret::RMSE(pred, test_y)\n",
    "R2 = caret::R2(pred,test_y)\n",
    "cat(\"R-sqaured: \",R2, \"MSE: \", mse, \"MAE: \", mae, \" RMSE: \", rmse)"
   ]
  },
  {
   "cell_type": "code",
   "execution_count": 162,
   "id": "cc84e4bf",
   "metadata": {
    "vscode": {
     "languageId": "r"
    }
   },
   "outputs": [
    {
     "data": {
      "image/png": "[encoded data removed]",
      "text/plain": [
       "Plot with title \"Observations versus Predictions\""
      ]
     },
     "metadata": {
      "image/png": {
       "height": 420,
       "width": 420
      }
     },
     "output_type": "display_data"
    }
   ],
   "source": [
    "x = 1:length(test_y[1:(length(test_y)/20)])\n",
    "\n",
    "plot(x, test_y[1:(length(test_y)/20)], col = \"red\", type = \"l\", lwd=2,\n",
    "     main = \"Observations versus Predictions\")\n",
    "lines(x, pred[1:(length(pred)/20)], col = \"blue\", lwd=2)\n",
    "legend(\"topright\",  legend = c(\"observation\", \"predicted\"), \n",
    "       fill = c(\"red\", \"blue\"), col = 2:3,  adj = c(0, 0.6))\n",
    "grid()"
   ]
  },
  {
   "cell_type": "code",
   "execution_count": 13,
   "id": "f0be2e9e",
   "metadata": {
    "vscode": {
     "languageId": "r"
    }
   },
   "outputs": [],
   "source": [
    "Model = c('MLR', 'KNN')\n",
    "Rsqaured = c(0.9361423, 0.4313803)\n",
    "MSE = c(0.00047238, 6.704781e-05)\n",
    "RMSE = c(0.02191, 0.008190637)\n",
    "MAE = c(0.0158465444146779, 0.003512344)"
   ]
  },
  {
   "cell_type": "code",
   "execution_count": 14,
   "id": "2fa29f61",
   "metadata": {
    "vscode": {
     "languageId": "r"
    }
   },
   "outputs": [],
   "source": [
    "df_1 <- data.frame(Model,Rsqaured,MSE,RMSE,MAE)"
   ]
  },
  {
   "cell_type": "code",
   "execution_count": 15,
   "id": "fdbfe495",
   "metadata": {
    "vscode": {
     "languageId": "r"
    }
   },
   "outputs": [
    {
     "data": {
      "text/html": [
       "<table class=\"dataframe\">\n",
       "<caption>A data.frame: 2 × 5</caption>\n",
       "<thead>\n",
       "\t<tr><th scope=col>Model</th><th scope=col>Rsqaured</th><th scope=col>MSE</th><th scope=col>RMSE</th><th scope=col>MAE</th></tr>\n",
       "\t<tr><th scope=col>&lt;chr&gt;</th><th scope=col>&lt;dbl&gt;</th><th scope=col>&lt;dbl&gt;</th><th scope=col>&lt;dbl&gt;</th><th scope=col>&lt;dbl&gt;</th></tr>\n",
       "</thead>\n",
       "<tbody>\n",
       "\t<tr><td>MLR</td><td>0.9361423</td><td>4.723800e-04</td><td>0.021910000</td><td>0.015846544</td></tr>\n",
       "\t<tr><td>KNN</td><td>0.4313803</td><td>6.704781e-05</td><td>0.008190637</td><td>0.003512344</td></tr>\n",
       "</tbody>\n",
       "</table>\n"
      ],
      "text/latex": [
       "A data.frame: 2 × 5\n",
       "\\begin{tabular}{lllll}\n",
       " Model & Rsqaured & MSE & RMSE & MAE\\\\\n",
       " <chr> & <dbl> & <dbl> & <dbl> & <dbl>\\\\\n",
       "\\hline\n",
       "\t MLR & 0.9361423 & 4.723800e-04 & 0.021910000 & 0.015846544\\\\\n",
       "\t KNN & 0.4313803 & 6.704781e-05 & 0.008190637 & 0.003512344\\\\\n",
       "\\end{tabular}\n"
      ],
      "text/markdown": [
       "\n",
       "A data.frame: 2 × 5\n",
       "\n",
       "| Model &lt;chr&gt; | Rsqaured &lt;dbl&gt; | MSE &lt;dbl&gt; | RMSE &lt;dbl&gt; | MAE &lt;dbl&gt; |\n",
       "|---|---|---|---|---|\n",
       "| MLR | 0.9361423 | 4.723800e-04 | 0.021910000 | 0.015846544 |\n",
       "| KNN | 0.4313803 | 6.704781e-05 | 0.008190637 | 0.003512344 |\n",
       "\n"
      ],
      "text/plain": [
       "  Model Rsqaured  MSE          RMSE        MAE        \n",
       "1 MLR   0.9361423 4.723800e-04 0.021910000 0.015846544\n",
       "2 KNN   0.4313803 6.704781e-05 0.008190637 0.003512344"
      ]
     },
     "metadata": {},
     "output_type": "display_data"
    }
   ],
   "source": [
    "df_1"
   ]
  },
  {
   "cell_type": "code",
   "execution_count": null,
   "id": "897fb21e",
   "metadata": {
    "vscode": {
     "languageId": "r"
    }
   },
   "outputs": [],
   "source": [
    "# According to, above observations MLR has better R2, while KNN performs better on test data, can be problem of overfit or \n",
    "# underfit"
   ]
  }
 ],
 "metadata": {
  "kernelspec": {
   "display_name": "R",
   "language": "R",
   "name": "ir"
  },
  "language_info": {
   "codemirror_mode": "r",
   "file_extension": ".r",
   "mimetype": "text/x-r-source",
   "name": "R",
   "pygments_lexer": "r",
   "version": "4.1.3"
  }
 },
 "nbformat": 4,
 "nbformat_minor": 5
}
